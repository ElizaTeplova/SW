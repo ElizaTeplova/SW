{
 "cells": [
  {
   "cell_type": "code",
   "execution_count": 1,
   "outputs": [],
   "source": [
    "import numpy as np"
   ],
   "metadata": {
    "collapsed": false,
    "ExecuteTime": {
     "start_time": "2023-05-08T19:34:32.238555Z",
     "end_time": "2023-05-08T19:34:32.356577Z"
    }
   }
  },
  {
   "cell_type": "code",
   "execution_count": 2,
   "outputs": [
    {
     "data": {
      "text/plain": "array([[[1., 1., 1.],\n        [1., 1., 1.]]])"
     },
     "execution_count": 2,
     "metadata": {},
     "output_type": "execute_result"
    }
   ],
   "source": [
    "a = np.ones((1, 2, 3))\n",
    "a"
   ],
   "metadata": {
    "collapsed": false,
    "ExecuteTime": {
     "start_time": "2023-05-08T19:34:32.357551Z",
     "end_time": "2023-05-08T19:34:32.372559Z"
    }
   }
  },
  {
   "cell_type": "code",
   "execution_count": 3,
   "outputs": [
    {
     "data": {
      "text/plain": "array([[[1., 1., 1.]],\n\n       [[1., 1., 1.]]])"
     },
     "execution_count": 3,
     "metadata": {},
     "output_type": "execute_result"
    }
   ],
   "source": [
    "np.transpose(a, (1, 0, 2))"
   ],
   "metadata": {
    "collapsed": false,
    "ExecuteTime": {
     "start_time": "2023-05-08T19:34:32.373554Z",
     "end_time": "2023-05-08T19:34:32.456550Z"
    }
   }
  },
  {
   "cell_type": "code",
   "execution_count": 4,
   "outputs": [],
   "source": [
    "mat = np.array([[2, 1, 0, 0], [0, 2, 1, 0], [0, 0, 2, 1]])"
   ],
   "metadata": {
    "collapsed": false,
    "ExecuteTime": {
     "start_time": "2023-05-08T19:34:32.390559Z",
     "end_time": "2023-05-08T19:34:32.471567Z"
    }
   }
  },
  {
   "cell_type": "code",
   "execution_count": 5,
   "outputs": [
    {
     "data": {
      "text/plain": "array([[2, 1, 0, 0],\n       [0, 2, 1, 0],\n       [0, 0, 2, 1]])"
     },
     "execution_count": 5,
     "metadata": {},
     "output_type": "execute_result"
    }
   ],
   "source": [
    "mat"
   ],
   "metadata": {
    "collapsed": false,
    "ExecuteTime": {
     "start_time": "2023-05-08T19:34:32.406551Z",
     "end_time": "2023-05-08T19:34:32.473556Z"
    }
   }
  },
  {
   "cell_type": "code",
   "execution_count": 6,
   "outputs": [
    {
     "data": {
      "text/plain": "array([2, 1, 0, 0, 0, 2, 1, 0, 0, 0, 2, 1])"
     },
     "execution_count": 6,
     "metadata": {},
     "output_type": "execute_result"
    }
   ],
   "source": [
    "np.reshape(mat, 12)"
   ],
   "metadata": {
    "collapsed": false,
    "ExecuteTime": {
     "start_time": "2023-05-08T19:34:32.422551Z",
     "end_time": "2023-05-08T19:34:32.474553Z"
    }
   }
  },
  {
   "cell_type": "code",
   "execution_count": 7,
   "outputs": [
    {
     "data": {
      "text/plain": "numpy.ndarray"
     },
     "execution_count": 7,
     "metadata": {},
     "output_type": "execute_result"
    }
   ],
   "source": [
    "type(mat)"
   ],
   "metadata": {
    "collapsed": false,
    "ExecuteTime": {
     "start_time": "2023-05-08T19:34:32.435552Z",
     "end_time": "2023-05-08T19:34:32.475564Z"
    }
   }
  },
  {
   "cell_type": "code",
   "execution_count": 8,
   "outputs": [
    {
     "name": "stderr",
     "output_type": "stream",
     "text": [
      "C:\\Users\\mrbab\\AppData\\Local\\Temp\\ipykernel_22548\\4280850326.py:2: DeprecationWarning: `np.int` is a deprecated alias for the builtin `int`. To silence this warning, use `int` by itself. Doing this will not modify any behavior and is safe. When replacing `np.int`, you may wish to use e.g. `np.int64` or `np.int32` to specify the precision. If you wish to review your current use, check the release note link for additional information.\n",
      "Deprecated in NumPy 1.20; for more details and guidance: https://numpy.org/devdocs/release/1.20.0-notes.html#deprecations\n",
      "  X = np.fromiter(map(int, input().split()), np.int).reshape(x_shape)\n"
     ]
    },
    {
     "ename": "ValueError",
     "evalue": "cannot reshape array of size 0 into shape ()",
     "output_type": "error",
     "traceback": [
      "\u001B[1;31m---------------------------------------------------------------------------\u001B[0m",
      "\u001B[1;31mValueError\u001B[0m                                Traceback (most recent call last)",
      "Cell \u001B[1;32mIn[8], line 2\u001B[0m\n\u001B[0;32m      1\u001B[0m x_shape \u001B[38;5;241m=\u001B[39m \u001B[38;5;28mtuple\u001B[39m(\u001B[38;5;28mmap\u001B[39m(\u001B[38;5;28mint\u001B[39m, \u001B[38;5;28minput\u001B[39m()\u001B[38;5;241m.\u001B[39msplit()))\n\u001B[1;32m----> 2\u001B[0m X \u001B[38;5;241m=\u001B[39m \u001B[43mnp\u001B[49m\u001B[38;5;241;43m.\u001B[39;49m\u001B[43mfromiter\u001B[49m\u001B[43m(\u001B[49m\u001B[38;5;28;43mmap\u001B[39;49m\u001B[43m(\u001B[49m\u001B[38;5;28;43mint\u001B[39;49m\u001B[43m,\u001B[49m\u001B[43m \u001B[49m\u001B[38;5;28;43minput\u001B[39;49m\u001B[43m(\u001B[49m\u001B[43m)\u001B[49m\u001B[38;5;241;43m.\u001B[39;49m\u001B[43msplit\u001B[49m\u001B[43m(\u001B[49m\u001B[43m)\u001B[49m\u001B[43m)\u001B[49m\u001B[43m,\u001B[49m\u001B[43m \u001B[49m\u001B[43mnp\u001B[49m\u001B[38;5;241;43m.\u001B[39;49m\u001B[43mint\u001B[49m\u001B[43m)\u001B[49m\u001B[38;5;241;43m.\u001B[39;49m\u001B[43mreshape\u001B[49m\u001B[43m(\u001B[49m\u001B[43mx_shape\u001B[49m\u001B[43m)\u001B[49m\n\u001B[0;32m      3\u001B[0m y_shape \u001B[38;5;241m=\u001B[39m \u001B[38;5;28mtuple\u001B[39m(\u001B[38;5;28mmap\u001B[39m(\u001B[38;5;28mint\u001B[39m, \u001B[38;5;28minput\u001B[39m()\u001B[38;5;241m.\u001B[39msplit()))\n\u001B[0;32m      4\u001B[0m Y \u001B[38;5;241m=\u001B[39m np\u001B[38;5;241m.\u001B[39mfromiter(\u001B[38;5;28mmap\u001B[39m(\u001B[38;5;28mint\u001B[39m, \u001B[38;5;28minput\u001B[39m()\u001B[38;5;241m.\u001B[39msplit()), np\u001B[38;5;241m.\u001B[39mint)\u001B[38;5;241m.\u001B[39mreshape(y_shape)\n",
      "\u001B[1;31mValueError\u001B[0m: cannot reshape array of size 0 into shape ()"
     ]
    }
   ],
   "source": [
    "x_shape = tuple(map(int, input().split()))\n",
    "X = np.fromiter(map(int, input().split()), np.int).reshape(x_shape)\n",
    "y_shape = tuple(map(int, input().split()))\n",
    "Y = np.fromiter(map(int, input().split()), np.int).reshape(y_shape)"
   ],
   "metadata": {
    "collapsed": false,
    "ExecuteTime": {
     "start_time": "2023-05-07T16:18:04.906377Z",
     "end_time": "2023-05-07T16:18:27.151365Z"
    }
   }
  },
  {
   "cell_type": "code",
   "execution_count": null,
   "outputs": [],
   "source": [
    "if x_shape[1] != Y.T.shape[0]:\n",
    "    print('aaa')\n",
    "else:\n",
    "    print(\"bbb\")"
   ],
   "metadata": {
    "collapsed": false,
    "ExecuteTime": {
     "start_time": "2023-05-07T16:21:42.547834Z",
     "end_time": "2023-05-07T16:21:42.566829Z"
    }
   }
  },
  {
   "cell_type": "code",
   "execution_count": null,
   "outputs": [],
   "source": [
    "print(X.dot(Y.T))"
   ],
   "metadata": {
    "collapsed": false,
    "ExecuteTime": {
     "start_time": "2023-05-07T16:20:04.107154Z",
     "end_time": "2023-05-07T16:20:04.135170Z"
    }
   }
  },
  {
   "cell_type": "code",
   "execution_count": null,
   "outputs": [],
   "source": [
    "from urllib.request import urlopen\n",
    "\n",
    "f = urlopen('https://stepik.org/media/attachments/lesson/16462/boston_houses.csv')"
   ],
   "metadata": {
    "collapsed": false,
    "ExecuteTime": {
     "start_time": "2023-05-07T16:36:19.666217Z",
     "end_time": "2023-05-07T16:36:24.247507Z"
    }
   }
  },
  {
   "cell_type": "code",
   "execution_count": null,
   "outputs": [],
   "source": [
    "arr = np.loadtxt(f, skiprows=1, delimiter=',')"
   ],
   "metadata": {
    "collapsed": false,
    "ExecuteTime": {
     "start_time": "2023-05-07T16:36:24.250487Z",
     "end_time": "2023-05-07T16:36:24.293489Z"
    }
   }
  },
  {
   "cell_type": "code",
   "execution_count": null,
   "outputs": [],
   "source": [
    "arr"
   ],
   "metadata": {
    "collapsed": false,
    "ExecuteTime": {
     "start_time": "2023-05-07T16:36:24.296490Z",
     "end_time": "2023-05-07T16:36:24.309503Z"
    }
   }
  },
  {
   "cell_type": "code",
   "execution_count": null,
   "outputs": [],
   "source": [
    "print(arr.mean(axis=0))"
   ],
   "metadata": {
    "collapsed": false,
    "ExecuteTime": {
     "start_time": "2023-05-07T16:38:19.222668Z",
     "end_time": "2023-05-07T16:38:19.270687Z"
    }
   }
  },
  {
   "cell_type": "code",
   "execution_count": null,
   "outputs": [],
   "source": [
    "x = np.array([[1, 60], [1, 50], [1, 75]])\n",
    "y = np.array([[10], [7], [12]])"
   ],
   "metadata": {
    "collapsed": false,
    "ExecuteTime": {
     "start_time": "2023-05-08T14:15:17.611169Z",
     "end_time": "2023-05-08T14:15:17.621170Z"
    }
   }
  },
  {
   "cell_type": "code",
   "execution_count": null,
   "outputs": [],
   "source": [
    "b = np.linalg.inv(x.T @ x) @ x.T @ y\n",
    "print(b)\n"
   ],
   "metadata": {
    "collapsed": false,
    "ExecuteTime": {
     "start_time": "2023-05-08T14:15:18.677080Z",
     "end_time": "2023-05-08T14:15:18.688078Z"
    }
   }
  },
  {
   "cell_type": "code",
   "execution_count": null,
   "outputs": [],
   "source": [
    "import urllib"
   ],
   "metadata": {
    "collapsed": false,
    "ExecuteTime": {
     "start_time": "2023-05-08T14:21:45.236755Z",
     "end_time": "2023-05-08T14:21:45.246753Z"
    }
   }
  },
  {
   "cell_type": "code",
   "execution_count": null,
   "outputs": [],
   "source": [
    "f = urllib.request.urlopen(\"https://stepik.org/media/attachments/lesson/16462/boston_houses.csv\")  # open file from URL\n",
    "data = np.loadtxt(f, delimiter=',', skiprows=1)  # load data to work with"
   ],
   "metadata": {
    "collapsed": false,
    "ExecuteTime": {
     "start_time": "2023-05-08T14:22:01.876157Z",
     "end_time": "2023-05-08T14:22:02.090415Z"
    }
   }
  },
  {
   "cell_type": "code",
   "execution_count": null,
   "outputs": [],
   "source": [
    "data"
   ],
   "metadata": {
    "collapsed": false,
    "ExecuteTime": {
     "start_time": "2023-05-08T14:22:04.615536Z",
     "end_time": "2023-05-08T14:22:04.624556Z"
    }
   }
  },
  {
   "cell_type": "code",
   "execution_count": null,
   "outputs": [],
   "source": [
    "x = data[:, 1:]\n",
    "y = data[:, [0]]"
   ],
   "metadata": {
    "collapsed": false,
    "ExecuteTime": {
     "start_time": "2023-05-08T14:25:00.130917Z",
     "end_time": "2023-05-08T14:25:00.147903Z"
    }
   }
  },
  {
   "cell_type": "code",
   "execution_count": null,
   "outputs": [],
   "source": [
    "x = np.hstack((np.ones(shape=[x.shape[0], 1]), x))\n",
    "x"
   ],
   "metadata": {
    "collapsed": false,
    "ExecuteTime": {
     "start_time": "2023-05-08T14:33:16.725538Z",
     "end_time": "2023-05-08T14:33:16.748968Z"
    }
   }
  },
  {
   "cell_type": "code",
   "execution_count": null,
   "outputs": [],
   "source": [
    "b = np.linalg.inv(x.T @ x) @ x.T @ y"
   ],
   "metadata": {
    "collapsed": false,
    "ExecuteTime": {
     "start_time": "2023-05-08T14:31:43.775304Z",
     "end_time": "2023-05-08T14:31:43.794293Z"
    }
   }
  },
  {
   "cell_type": "code",
   "execution_count": null,
   "outputs": [],
   "source": [
    "import regex as re"
   ],
   "metadata": {
    "collapsed": false,
    "ExecuteTime": {
     "start_time": "2023-05-08T14:40:33.054015Z",
     "end_time": "2023-05-08T14:40:33.229557Z"
    }
   }
  },
  {
   "cell_type": "code",
   "execution_count": null,
   "outputs": [],
   "source": [
    "print(','.join(map(str, b)))"
   ],
   "metadata": {
    "collapsed": false,
    "ExecuteTime": {
     "start_time": "2023-05-08T14:44:09.777376Z",
     "end_time": "2023-05-08T14:44:09.792809Z"
    }
   }
  },
  {
   "cell_type": "code",
   "execution_count": null,
   "outputs": [],
   "source": [
    "print(re.sub(r'[^\\w.-]', ' ', ''.join(map(str, b))))"
   ],
   "metadata": {
    "collapsed": false,
    "ExecuteTime": {
     "start_time": "2023-05-08T14:46:17.698173Z",
     "end_time": "2023-05-08T14:46:17.726188Z"
    }
   }
  },
  {
   "cell_type": "code",
   "execution_count": 79,
   "outputs": [],
   "source": [
    "X = np.array([[1, 0.3], [0.4, 0.5], [0.7, 0.8]])\n",
    "X = np.hstack((np.ones(shape=[X.shape[0], 1]), X))\n",
    "y = np.array([[1], [1], [0]])\n",
    "# w = np.array([[0.0, 0.0, 0.0]])\n",
    "w = np.array([[0.0], [0.0], [0.0]])"
   ],
   "metadata": {
    "collapsed": false,
    "ExecuteTime": {
     "start_time": "2023-05-08T20:42:29.248688Z",
     "end_time": "2023-05-08T20:42:29.261683Z"
    }
   }
  },
  {
   "cell_type": "code",
   "execution_count": 80,
   "outputs": [
    {
     "data": {
      "text/plain": "(3, 3)"
     },
     "execution_count": 80,
     "metadata": {},
     "output_type": "execute_result"
    }
   ],
   "source": [
    "X.shape"
   ],
   "metadata": {
    "collapsed": false,
    "ExecuteTime": {
     "start_time": "2023-05-08T20:42:31.036566Z",
     "end_time": "2023-05-08T20:42:31.064876Z"
    }
   }
  },
  {
   "cell_type": "code",
   "execution_count": 81,
   "outputs": [
    {
     "data": {
      "text/plain": "(3, 1)"
     },
     "execution_count": 81,
     "metadata": {},
     "output_type": "execute_result"
    }
   ],
   "source": [
    "y.shape"
   ],
   "metadata": {
    "collapsed": false,
    "ExecuteTime": {
     "start_time": "2023-05-08T20:42:31.451713Z",
     "end_time": "2023-05-08T20:42:31.471712Z"
    }
   }
  },
  {
   "cell_type": "code",
   "execution_count": 82,
   "outputs": [
    {
     "data": {
      "text/plain": "(3, 1)"
     },
     "execution_count": 82,
     "metadata": {},
     "output_type": "execute_result"
    }
   ],
   "source": [
    "w.shape"
   ],
   "metadata": {
    "collapsed": false,
    "ExecuteTime": {
     "start_time": "2023-05-08T20:42:31.934879Z",
     "end_time": "2023-05-08T20:42:31.947881Z"
    }
   }
  },
  {
   "cell_type": "code",
   "execution_count": 35,
   "outputs": [
    {
     "data": {
      "text/plain": "array([[1. , 1. , 0.3],\n       [1. , 0.4, 0.5],\n       [1. , 0.7, 0.8]])"
     },
     "execution_count": 35,
     "metadata": {},
     "output_type": "execute_result"
    }
   ],
   "source": [
    "X"
   ],
   "metadata": {
    "collapsed": false,
    "ExecuteTime": {
     "start_time": "2023-05-08T20:00:17.758914Z",
     "end_time": "2023-05-08T20:00:17.776917Z"
    }
   }
  },
  {
   "cell_type": "code",
   "execution_count": 101,
   "outputs": [],
   "source": [
    "def predict(ex: np.array):\n",
    "    ex = np.reshape(ex, newshape=[3, 1])\n",
    "    if w.T.dot(ex) > 0:\n",
    "        return 1\n",
    "    else:\n",
    "        return 0"
   ],
   "metadata": {
    "collapsed": false,
    "ExecuteTime": {
     "start_time": "2023-05-08T20:51:21.229455Z",
     "end_time": "2023-05-08T20:51:21.243458Z"
    }
   }
  },
  {
   "cell_type": "code",
   "execution_count": 18,
   "outputs": [],
   "source": [
    "def target(x_f: np.array):\n",
    "    if x_f[1] == 1 and x_f[2] == 0.3:\n",
    "        return 1\n",
    "    elif x_f[1] == 0.4 and x_f[2] == 0.5:\n",
    "        return 1\n",
    "    elif x_f[1] == 0.7 and x_f[2] == 0.8:\n",
    "        return 0"
   ],
   "metadata": {
    "collapsed": false,
    "ExecuteTime": {
     "start_time": "2023-05-08T19:49:10.414831Z",
     "end_time": "2023-05-08T19:49:10.431825Z"
    }
   }
  },
  {
   "cell_type": "code",
   "execution_count": 102,
   "outputs": [
    {
     "name": "stdout",
     "output_type": "stream",
     "text": [
      "w:\n",
      "[[1. ]\n",
      " [1. ]\n",
      " [0.3]]\n",
      "w:\n",
      "[[1. ]\n",
      " [1. ]\n",
      " [0.3]]\n",
      "predict(e) == 1:\n",
      "w:\n",
      "[[ 0. ]\n",
      " [ 0.3]\n",
      " [-0.5]]\n"
     ]
    }
   ],
   "source": [
    "perfect = False\n",
    "for j in range(3):\n",
    "    e = X[j]\n",
    "    # print(\"e: \")\n",
    "    # print(e)\n",
    "    if predict(e) != target(e):\n",
    "\n",
    "        perfect = False\n",
    "        # if predict(e) == 0:\n",
    "        #     w += e\n",
    "        # if predict(e) == 1:\n",
    "        #     w -= e\n",
    "        if predict(e) == 0:\n",
    "            print(\"predict(e) == 0:\")\n",
    "            w += e.reshape(-1, 1)\n",
    "        if predict(e) == 1:\n",
    "            print(\"predict(e) == 1:\")\n",
    "            w -= e.reshape(-1, 1)\n",
    "    print(\"w:\")\n",
    "    print(w)"
   ],
   "metadata": {
    "collapsed": false,
    "ExecuteTime": {
     "start_time": "2023-05-08T20:51:23.219557Z",
     "end_time": "2023-05-08T20:51:23.244679Z"
    }
   }
  },
  {
   "cell_type": "code",
   "execution_count": 104,
   "outputs": [],
   "source": [
    "class Perceptron():\n",
    "    def __init__(self, n=1, bias=0):\n",
    "        self.weights = np.zeros(n)\n",
    "        self.bias = bias\n",
    "\n",
    "    def predict(self, vect):\n",
    "        return (self.weights * vect).sum() + self.bias > 0\n",
    "\n",
    "    def iter_learn(self, vect, answer):\n",
    "        prediction = self.predict(vect)\n",
    "        if prediction != answer:\n",
    "            if prediction:\n",
    "                self.weights -= vect\n",
    "            else:\n",
    "                self.weights += vect\n",
    "\n",
    "x = Perceptron(2)\n",
    "x.iter_learn(np.array([1.0, 0.3]), True)\n",
    "x.iter_learn(np.array([0.4, 0.5]), True)\n",
    "x.iter_learn(np.array([0.7, 0.8]), False)"
   ],
   "metadata": {
    "collapsed": false,
    "ExecuteTime": {
     "start_time": "2023-05-08T20:53:17.603843Z",
     "end_time": "2023-05-08T20:53:17.650040Z"
    }
   }
  },
  {
   "cell_type": "code",
   "execution_count": 105,
   "outputs": [
    {
     "data": {
      "text/plain": "array([ 0.3, -0.5])"
     },
     "execution_count": 105,
     "metadata": {},
     "output_type": "execute_result"
    }
   ],
   "source": [
    "x.weights"
   ],
   "metadata": {
    "collapsed": false,
    "ExecuteTime": {
     "start_time": "2023-05-08T20:53:37.992594Z",
     "end_time": "2023-05-08T20:53:38.038618Z"
    }
   }
  },
  {
   "cell_type": "code",
   "execution_count": null,
   "outputs": [],
   "source": [],
   "metadata": {
    "collapsed": false
   }
  }
 ],
 "metadata": {
  "kernelspec": {
   "display_name": "Python 3",
   "language": "python",
   "name": "python3"
  },
  "language_info": {
   "codemirror_mode": {
    "name": "ipython",
    "version": 2
   },
   "file_extension": ".py",
   "mimetype": "text/x-python",
   "name": "python",
   "nbconvert_exporter": "python",
   "pygments_lexer": "ipython2",
   "version": "2.7.6"
  }
 },
 "nbformat": 4,
 "nbformat_minor": 0
}
