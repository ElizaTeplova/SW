{
 "cells": [
  {
   "cell_type": "code",
   "execution_count": 175,
   "outputs": [],
   "source": [
    "from sklearn import tree\n",
    "from sklearn.model_selection import cross_val_score\n",
    "from sklearn.model_selection import train_test_split\n",
    "import matplotlib.pyplot as plt\n",
    "import pandas as pd\n",
    "import numpy as np\n",
    "import seaborn as sns\n",
    "%matplotlib inline"
   ],
   "metadata": {
    "collapsed": false,
    "ExecuteTime": {
     "start_time": "2023-04-24T21:12:27.759417Z",
     "end_time": "2023-04-24T21:12:27.782414Z"
    }
   }
  },
  {
   "cell_type": "code",
   "execution_count": 176,
   "metadata": {
    "collapsed": true,
    "ExecuteTime": {
     "start_time": "2023-04-24T21:12:27.766412Z",
     "end_time": "2023-04-24T21:12:27.853413Z"
    }
   },
   "outputs": [],
   "source": [
    "from IPython.display import SVG\n",
    "from graphviz import Source\n",
    "from IPython.display import display"
   ]
  },
  {
   "cell_type": "code",
   "execution_count": 177,
   "outputs": [
    {
     "data": {
      "text/plain": "<IPython.core.display.HTML object>",
      "text/html": "<style>svg{width: 70 !important; height: 70% !important}</style>"
     },
     "execution_count": 177,
     "metadata": {},
     "output_type": "execute_result"
    }
   ],
   "source": [
    "from IPython.display import HTML\n",
    "\n",
    "style = \"<style>svg{width: 70 !important; height: 70% !important}</style>\"\n",
    "HTML(style)"
   ],
   "metadata": {
    "collapsed": false,
    "ExecuteTime": {
     "start_time": "2023-04-24T21:12:27.781411Z",
     "end_time": "2023-04-24T21:12:27.855410Z"
    }
   }
  },
  {
   "cell_type": "code",
   "execution_count": 178,
   "outputs": [
    {
     "data": {
      "text/plain": "     sepal_length  sepal_width  petal_length  petal_width  species\n130           7.4          2.8           6.1          1.9        2\n7             5.0          3.4           1.5          0.2        0\n11            4.8          3.4           1.6          0.2        0\n142           5.8          2.7           5.1          1.9        2\n109           7.2          3.6           6.1          2.5        2",
      "text/html": "<div>\n<style scoped>\n    .dataframe tbody tr th:only-of-type {\n        vertical-align: middle;\n    }\n\n    .dataframe tbody tr th {\n        vertical-align: top;\n    }\n\n    .dataframe thead th {\n        text-align: right;\n    }\n</style>\n<table border=\"1\" class=\"dataframe\">\n  <thead>\n    <tr style=\"text-align: right;\">\n      <th></th>\n      <th>sepal_length</th>\n      <th>sepal_width</th>\n      <th>petal_length</th>\n      <th>petal_width</th>\n      <th>species</th>\n    </tr>\n  </thead>\n  <tbody>\n    <tr>\n      <th>130</th>\n      <td>7.4</td>\n      <td>2.8</td>\n      <td>6.1</td>\n      <td>1.9</td>\n      <td>2</td>\n    </tr>\n    <tr>\n      <th>7</th>\n      <td>5.0</td>\n      <td>3.4</td>\n      <td>1.5</td>\n      <td>0.2</td>\n      <td>0</td>\n    </tr>\n    <tr>\n      <th>11</th>\n      <td>4.8</td>\n      <td>3.4</td>\n      <td>1.6</td>\n      <td>0.2</td>\n      <td>0</td>\n    </tr>\n    <tr>\n      <th>142</th>\n      <td>5.8</td>\n      <td>2.7</td>\n      <td>5.1</td>\n      <td>1.9</td>\n      <td>2</td>\n    </tr>\n    <tr>\n      <th>109</th>\n      <td>7.2</td>\n      <td>3.6</td>\n      <td>6.1</td>\n      <td>2.5</td>\n      <td>2</td>\n    </tr>\n  </tbody>\n</table>\n</div>"
     },
     "execution_count": 178,
     "metadata": {},
     "output_type": "execute_result"
    }
   ],
   "source": [
    "iris_train_data = pd.read_csv(\"https://stepik.org/media/attachments/course/4852/train_iris.csv\", index_col=0)\n",
    "iris_train_data = iris_train_data.rename(columns={'sepal length': 'sepal_length',\n",
    "                                                  'sepal width': 'sepal_width',\n",
    "                                                  'petal length': 'petal_length',\n",
    "                                                  'petal width': 'petal_width'})\n",
    "iris_train_data.head(5)"
   ],
   "metadata": {
    "collapsed": false,
    "ExecuteTime": {
     "start_time": "2023-04-24T21:12:27.797416Z",
     "end_time": "2023-04-24T21:12:27.955411Z"
    }
   }
  },
  {
   "cell_type": "code",
   "execution_count": 179,
   "outputs": [
    {
     "data": {
      "text/plain": "     sepal_length  sepal_width  petal_length  petal_width  species\n114           5.8          2.8           5.1          2.4        2\n70            5.9          3.2           4.8          1.8        1\n138           6.0          3.0           4.8          1.8        2\n59            5.2          2.7           3.9          1.4        1\n44            5.1          3.8           1.9          0.4        0",
      "text/html": "<div>\n<style scoped>\n    .dataframe tbody tr th:only-of-type {\n        vertical-align: middle;\n    }\n\n    .dataframe tbody tr th {\n        vertical-align: top;\n    }\n\n    .dataframe thead th {\n        text-align: right;\n    }\n</style>\n<table border=\"1\" class=\"dataframe\">\n  <thead>\n    <tr style=\"text-align: right;\">\n      <th></th>\n      <th>sepal_length</th>\n      <th>sepal_width</th>\n      <th>petal_length</th>\n      <th>petal_width</th>\n      <th>species</th>\n    </tr>\n  </thead>\n  <tbody>\n    <tr>\n      <th>114</th>\n      <td>5.8</td>\n      <td>2.8</td>\n      <td>5.1</td>\n      <td>2.4</td>\n      <td>2</td>\n    </tr>\n    <tr>\n      <th>70</th>\n      <td>5.9</td>\n      <td>3.2</td>\n      <td>4.8</td>\n      <td>1.8</td>\n      <td>1</td>\n    </tr>\n    <tr>\n      <th>138</th>\n      <td>6.0</td>\n      <td>3.0</td>\n      <td>4.8</td>\n      <td>1.8</td>\n      <td>2</td>\n    </tr>\n    <tr>\n      <th>59</th>\n      <td>5.2</td>\n      <td>2.7</td>\n      <td>3.9</td>\n      <td>1.4</td>\n      <td>1</td>\n    </tr>\n    <tr>\n      <th>44</th>\n      <td>5.1</td>\n      <td>3.8</td>\n      <td>1.9</td>\n      <td>0.4</td>\n      <td>0</td>\n    </tr>\n  </tbody>\n</table>\n</div>"
     },
     "execution_count": 179,
     "metadata": {},
     "output_type": "execute_result"
    }
   ],
   "source": [
    "iris_test_data = pd.read_csv(\"https://stepik.org/media/attachments/course/4852/test_iris.csv\", index_col=0)\n",
    "iris_test_data = iris_test_data.rename(columns={'sepal length': 'sepal_length',\n",
    "                                                 'sepal width': 'sepal_width',\n",
    "                                                 'petal length': 'petal_length',\n",
    "                                                 'petal width': 'petal_width'})\n",
    "iris_test_data.head(5)"
   ],
   "metadata": {
    "collapsed": false,
    "ExecuteTime": {
     "start_time": "2023-04-24T21:12:27.956418Z",
     "end_time": "2023-04-24T21:12:28.112411Z"
    }
   }
  },
  {
   "cell_type": "code",
   "execution_count": 180,
   "outputs": [],
   "source": [
    "X_train = iris_train_data.drop(['species'], axis=1)\n",
    "y_train = iris_train_data.species\n",
    "X_test = iris_test_data.drop(['species'], axis=1)\n",
    "y_test = iris_test_data.species"
   ],
   "metadata": {
    "collapsed": false,
    "ExecuteTime": {
     "start_time": "2023-04-24T21:12:28.113413Z",
     "end_time": "2023-04-24T21:12:28.133412Z"
    }
   }
  },
  {
   "cell_type": "code",
   "execution_count": 181,
   "outputs": [
    {
     "data": {
      "text/plain": "     sepal_length  sepal_width  petal_length  petal_width\n130           7.4          2.8           6.1          1.9\n7             5.0          3.4           1.5          0.2\n11            4.8          3.4           1.6          0.2\n142           5.8          2.7           5.1          1.9\n109           7.2          3.6           6.1          2.5",
      "text/html": "<div>\n<style scoped>\n    .dataframe tbody tr th:only-of-type {\n        vertical-align: middle;\n    }\n\n    .dataframe tbody tr th {\n        vertical-align: top;\n    }\n\n    .dataframe thead th {\n        text-align: right;\n    }\n</style>\n<table border=\"1\" class=\"dataframe\">\n  <thead>\n    <tr style=\"text-align: right;\">\n      <th></th>\n      <th>sepal_length</th>\n      <th>sepal_width</th>\n      <th>petal_length</th>\n      <th>petal_width</th>\n    </tr>\n  </thead>\n  <tbody>\n    <tr>\n      <th>130</th>\n      <td>7.4</td>\n      <td>2.8</td>\n      <td>6.1</td>\n      <td>1.9</td>\n    </tr>\n    <tr>\n      <th>7</th>\n      <td>5.0</td>\n      <td>3.4</td>\n      <td>1.5</td>\n      <td>0.2</td>\n    </tr>\n    <tr>\n      <th>11</th>\n      <td>4.8</td>\n      <td>3.4</td>\n      <td>1.6</td>\n      <td>0.2</td>\n    </tr>\n    <tr>\n      <th>142</th>\n      <td>5.8</td>\n      <td>2.7</td>\n      <td>5.1</td>\n      <td>1.9</td>\n    </tr>\n    <tr>\n      <th>109</th>\n      <td>7.2</td>\n      <td>3.6</td>\n      <td>6.1</td>\n      <td>2.5</td>\n    </tr>\n  </tbody>\n</table>\n</div>"
     },
     "execution_count": 181,
     "metadata": {},
     "output_type": "execute_result"
    }
   ],
   "source": [
    "X_train.head()"
   ],
   "metadata": {
    "collapsed": false,
    "ExecuteTime": {
     "start_time": "2023-04-24T21:12:28.130412Z",
     "end_time": "2023-04-24T21:12:28.191412Z"
    }
   }
  },
  {
   "cell_type": "code",
   "execution_count": 182,
   "outputs": [
    {
     "data": {
      "text/plain": "     sepal_length  sepal_width  petal_length  petal_width\n114           5.8          2.8           5.1          2.4\n70            5.9          3.2           4.8          1.8\n138           6.0          3.0           4.8          1.8\n59            5.2          2.7           3.9          1.4\n44            5.1          3.8           1.9          0.4",
      "text/html": "<div>\n<style scoped>\n    .dataframe tbody tr th:only-of-type {\n        vertical-align: middle;\n    }\n\n    .dataframe tbody tr th {\n        vertical-align: top;\n    }\n\n    .dataframe thead th {\n        text-align: right;\n    }\n</style>\n<table border=\"1\" class=\"dataframe\">\n  <thead>\n    <tr style=\"text-align: right;\">\n      <th></th>\n      <th>sepal_length</th>\n      <th>sepal_width</th>\n      <th>petal_length</th>\n      <th>petal_width</th>\n    </tr>\n  </thead>\n  <tbody>\n    <tr>\n      <th>114</th>\n      <td>5.8</td>\n      <td>2.8</td>\n      <td>5.1</td>\n      <td>2.4</td>\n    </tr>\n    <tr>\n      <th>70</th>\n      <td>5.9</td>\n      <td>3.2</td>\n      <td>4.8</td>\n      <td>1.8</td>\n    </tr>\n    <tr>\n      <th>138</th>\n      <td>6.0</td>\n      <td>3.0</td>\n      <td>4.8</td>\n      <td>1.8</td>\n    </tr>\n    <tr>\n      <th>59</th>\n      <td>5.2</td>\n      <td>2.7</td>\n      <td>3.9</td>\n      <td>1.4</td>\n    </tr>\n    <tr>\n      <th>44</th>\n      <td>5.1</td>\n      <td>3.8</td>\n      <td>1.9</td>\n      <td>0.4</td>\n    </tr>\n  </tbody>\n</table>\n</div>"
     },
     "execution_count": 182,
     "metadata": {},
     "output_type": "execute_result"
    }
   ],
   "source": [
    "X_test.head()"
   ],
   "metadata": {
    "collapsed": false,
    "ExecuteTime": {
     "start_time": "2023-04-24T21:12:28.150412Z",
     "end_time": "2023-04-24T21:12:28.234408Z"
    }
   }
  },
  {
   "cell_type": "code",
   "execution_count": 183,
   "outputs": [],
   "source": [
    "max_depth_values = range(1, 100)"
   ],
   "metadata": {
    "collapsed": false,
    "ExecuteTime": {
     "start_time": "2023-04-24T21:12:28.162419Z",
     "end_time": "2023-04-24T21:12:28.234408Z"
    }
   }
  },
  {
   "cell_type": "code",
   "execution_count": 184,
   "outputs": [],
   "source": [
    "score_data = pd.DataFrame()\n",
    "rs = np.random.seed(0)"
   ],
   "metadata": {
    "collapsed": false,
    "ExecuteTime": {
     "start_time": "2023-04-24T21:12:28.179416Z",
     "end_time": "2023-04-24T21:12:28.235416Z"
    }
   }
  },
  {
   "cell_type": "code",
   "execution_count": 185,
   "outputs": [
    {
     "name": "stderr",
     "output_type": "stream",
     "text": [
      "C:\\Users\\mrbab\\AppData\\Local\\Temp\\ipykernel_7176\\2249123577.py:10: FutureWarning: The frame.append method is deprecated and will be removed from pandas in a future version. Use pandas.concat instead.\n",
      "  score_data = score_data.append(temp_score_data)\n",
      "C:\\Users\\mrbab\\AppData\\Local\\Temp\\ipykernel_7176\\2249123577.py:10: FutureWarning: The frame.append method is deprecated and will be removed from pandas in a future version. Use pandas.concat instead.\n",
      "  score_data = score_data.append(temp_score_data)\n",
      "C:\\Users\\mrbab\\AppData\\Local\\Temp\\ipykernel_7176\\2249123577.py:10: FutureWarning: The frame.append method is deprecated and will be removed from pandas in a future version. Use pandas.concat instead.\n",
      "  score_data = score_data.append(temp_score_data)\n",
      "C:\\Users\\mrbab\\AppData\\Local\\Temp\\ipykernel_7176\\2249123577.py:10: FutureWarning: The frame.append method is deprecated and will be removed from pandas in a future version. Use pandas.concat instead.\n",
      "  score_data = score_data.append(temp_score_data)\n",
      "C:\\Users\\mrbab\\AppData\\Local\\Temp\\ipykernel_7176\\2249123577.py:10: FutureWarning: The frame.append method is deprecated and will be removed from pandas in a future version. Use pandas.concat instead.\n",
      "  score_data = score_data.append(temp_score_data)\n",
      "C:\\Users\\mrbab\\AppData\\Local\\Temp\\ipykernel_7176\\2249123577.py:10: FutureWarning: The frame.append method is deprecated and will be removed from pandas in a future version. Use pandas.concat instead.\n",
      "  score_data = score_data.append(temp_score_data)\n",
      "C:\\Users\\mrbab\\AppData\\Local\\Temp\\ipykernel_7176\\2249123577.py:10: FutureWarning: The frame.append method is deprecated and will be removed from pandas in a future version. Use pandas.concat instead.\n",
      "  score_data = score_data.append(temp_score_data)\n",
      "C:\\Users\\mrbab\\AppData\\Local\\Temp\\ipykernel_7176\\2249123577.py:10: FutureWarning: The frame.append method is deprecated and will be removed from pandas in a future version. Use pandas.concat instead.\n",
      "  score_data = score_data.append(temp_score_data)\n",
      "C:\\Users\\mrbab\\AppData\\Local\\Temp\\ipykernel_7176\\2249123577.py:10: FutureWarning: The frame.append method is deprecated and will be removed from pandas in a future version. Use pandas.concat instead.\n",
      "  score_data = score_data.append(temp_score_data)\n",
      "C:\\Users\\mrbab\\AppData\\Local\\Temp\\ipykernel_7176\\2249123577.py:10: FutureWarning: The frame.append method is deprecated and will be removed from pandas in a future version. Use pandas.concat instead.\n",
      "  score_data = score_data.append(temp_score_data)\n",
      "C:\\Users\\mrbab\\AppData\\Local\\Temp\\ipykernel_7176\\2249123577.py:10: FutureWarning: The frame.append method is deprecated and will be removed from pandas in a future version. Use pandas.concat instead.\n",
      "  score_data = score_data.append(temp_score_data)\n",
      "C:\\Users\\mrbab\\AppData\\Local\\Temp\\ipykernel_7176\\2249123577.py:10: FutureWarning: The frame.append method is deprecated and will be removed from pandas in a future version. Use pandas.concat instead.\n",
      "  score_data = score_data.append(temp_score_data)\n",
      "C:\\Users\\mrbab\\AppData\\Local\\Temp\\ipykernel_7176\\2249123577.py:10: FutureWarning: The frame.append method is deprecated and will be removed from pandas in a future version. Use pandas.concat instead.\n",
      "  score_data = score_data.append(temp_score_data)\n",
      "C:\\Users\\mrbab\\AppData\\Local\\Temp\\ipykernel_7176\\2249123577.py:10: FutureWarning: The frame.append method is deprecated and will be removed from pandas in a future version. Use pandas.concat instead.\n",
      "  score_data = score_data.append(temp_score_data)\n",
      "C:\\Users\\mrbab\\AppData\\Local\\Temp\\ipykernel_7176\\2249123577.py:10: FutureWarning: The frame.append method is deprecated and will be removed from pandas in a future version. Use pandas.concat instead.\n",
      "  score_data = score_data.append(temp_score_data)\n",
      "C:\\Users\\mrbab\\AppData\\Local\\Temp\\ipykernel_7176\\2249123577.py:10: FutureWarning: The frame.append method is deprecated and will be removed from pandas in a future version. Use pandas.concat instead.\n",
      "  score_data = score_data.append(temp_score_data)\n",
      "C:\\Users\\mrbab\\AppData\\Local\\Temp\\ipykernel_7176\\2249123577.py:10: FutureWarning: The frame.append method is deprecated and will be removed from pandas in a future version. Use pandas.concat instead.\n",
      "  score_data = score_data.append(temp_score_data)\n",
      "C:\\Users\\mrbab\\AppData\\Local\\Temp\\ipykernel_7176\\2249123577.py:10: FutureWarning: The frame.append method is deprecated and will be removed from pandas in a future version. Use pandas.concat instead.\n",
      "  score_data = score_data.append(temp_score_data)\n",
      "C:\\Users\\mrbab\\AppData\\Local\\Temp\\ipykernel_7176\\2249123577.py:10: FutureWarning: The frame.append method is deprecated and will be removed from pandas in a future version. Use pandas.concat instead.\n",
      "  score_data = score_data.append(temp_score_data)\n",
      "C:\\Users\\mrbab\\AppData\\Local\\Temp\\ipykernel_7176\\2249123577.py:10: FutureWarning: The frame.append method is deprecated and will be removed from pandas in a future version. Use pandas.concat instead.\n",
      "  score_data = score_data.append(temp_score_data)\n",
      "C:\\Users\\mrbab\\AppData\\Local\\Temp\\ipykernel_7176\\2249123577.py:10: FutureWarning: The frame.append method is deprecated and will be removed from pandas in a future version. Use pandas.concat instead.\n",
      "  score_data = score_data.append(temp_score_data)\n",
      "C:\\Users\\mrbab\\AppData\\Local\\Temp\\ipykernel_7176\\2249123577.py:10: FutureWarning: The frame.append method is deprecated and will be removed from pandas in a future version. Use pandas.concat instead.\n",
      "  score_data = score_data.append(temp_score_data)\n",
      "C:\\Users\\mrbab\\AppData\\Local\\Temp\\ipykernel_7176\\2249123577.py:10: FutureWarning: The frame.append method is deprecated and will be removed from pandas in a future version. Use pandas.concat instead.\n",
      "  score_data = score_data.append(temp_score_data)\n",
      "C:\\Users\\mrbab\\AppData\\Local\\Temp\\ipykernel_7176\\2249123577.py:10: FutureWarning: The frame.append method is deprecated and will be removed from pandas in a future version. Use pandas.concat instead.\n",
      "  score_data = score_data.append(temp_score_data)\n",
      "C:\\Users\\mrbab\\AppData\\Local\\Temp\\ipykernel_7176\\2249123577.py:10: FutureWarning: The frame.append method is deprecated and will be removed from pandas in a future version. Use pandas.concat instead.\n",
      "  score_data = score_data.append(temp_score_data)\n",
      "C:\\Users\\mrbab\\AppData\\Local\\Temp\\ipykernel_7176\\2249123577.py:10: FutureWarning: The frame.append method is deprecated and will be removed from pandas in a future version. Use pandas.concat instead.\n",
      "  score_data = score_data.append(temp_score_data)\n",
      "C:\\Users\\mrbab\\AppData\\Local\\Temp\\ipykernel_7176\\2249123577.py:10: FutureWarning: The frame.append method is deprecated and will be removed from pandas in a future version. Use pandas.concat instead.\n",
      "  score_data = score_data.append(temp_score_data)\n",
      "C:\\Users\\mrbab\\AppData\\Local\\Temp\\ipykernel_7176\\2249123577.py:10: FutureWarning: The frame.append method is deprecated and will be removed from pandas in a future version. Use pandas.concat instead.\n",
      "  score_data = score_data.append(temp_score_data)\n",
      "C:\\Users\\mrbab\\AppData\\Local\\Temp\\ipykernel_7176\\2249123577.py:10: FutureWarning: The frame.append method is deprecated and will be removed from pandas in a future version. Use pandas.concat instead.\n",
      "  score_data = score_data.append(temp_score_data)\n",
      "C:\\Users\\mrbab\\AppData\\Local\\Temp\\ipykernel_7176\\2249123577.py:10: FutureWarning: The frame.append method is deprecated and will be removed from pandas in a future version. Use pandas.concat instead.\n",
      "  score_data = score_data.append(temp_score_data)\n",
      "C:\\Users\\mrbab\\AppData\\Local\\Temp\\ipykernel_7176\\2249123577.py:10: FutureWarning: The frame.append method is deprecated and will be removed from pandas in a future version. Use pandas.concat instead.\n",
      "  score_data = score_data.append(temp_score_data)\n",
      "C:\\Users\\mrbab\\AppData\\Local\\Temp\\ipykernel_7176\\2249123577.py:10: FutureWarning: The frame.append method is deprecated and will be removed from pandas in a future version. Use pandas.concat instead.\n",
      "  score_data = score_data.append(temp_score_data)\n",
      "C:\\Users\\mrbab\\AppData\\Local\\Temp\\ipykernel_7176\\2249123577.py:10: FutureWarning: The frame.append method is deprecated and will be removed from pandas in a future version. Use pandas.concat instead.\n",
      "  score_data = score_data.append(temp_score_data)\n",
      "C:\\Users\\mrbab\\AppData\\Local\\Temp\\ipykernel_7176\\2249123577.py:10: FutureWarning: The frame.append method is deprecated and will be removed from pandas in a future version. Use pandas.concat instead.\n",
      "  score_data = score_data.append(temp_score_data)\n",
      "C:\\Users\\mrbab\\AppData\\Local\\Temp\\ipykernel_7176\\2249123577.py:10: FutureWarning: The frame.append method is deprecated and will be removed from pandas in a future version. Use pandas.concat instead.\n",
      "  score_data = score_data.append(temp_score_data)\n",
      "C:\\Users\\mrbab\\AppData\\Local\\Temp\\ipykernel_7176\\2249123577.py:10: FutureWarning: The frame.append method is deprecated and will be removed from pandas in a future version. Use pandas.concat instead.\n",
      "  score_data = score_data.append(temp_score_data)\n",
      "C:\\Users\\mrbab\\AppData\\Local\\Temp\\ipykernel_7176\\2249123577.py:10: FutureWarning: The frame.append method is deprecated and will be removed from pandas in a future version. Use pandas.concat instead.\n",
      "  score_data = score_data.append(temp_score_data)\n",
      "C:\\Users\\mrbab\\AppData\\Local\\Temp\\ipykernel_7176\\2249123577.py:10: FutureWarning: The frame.append method is deprecated and will be removed from pandas in a future version. Use pandas.concat instead.\n",
      "  score_data = score_data.append(temp_score_data)\n",
      "C:\\Users\\mrbab\\AppData\\Local\\Temp\\ipykernel_7176\\2249123577.py:10: FutureWarning: The frame.append method is deprecated and will be removed from pandas in a future version. Use pandas.concat instead.\n",
      "  score_data = score_data.append(temp_score_data)\n",
      "C:\\Users\\mrbab\\AppData\\Local\\Temp\\ipykernel_7176\\2249123577.py:10: FutureWarning: The frame.append method is deprecated and will be removed from pandas in a future version. Use pandas.concat instead.\n",
      "  score_data = score_data.append(temp_score_data)\n",
      "C:\\Users\\mrbab\\AppData\\Local\\Temp\\ipykernel_7176\\2249123577.py:10: FutureWarning: The frame.append method is deprecated and will be removed from pandas in a future version. Use pandas.concat instead.\n",
      "  score_data = score_data.append(temp_score_data)\n",
      "C:\\Users\\mrbab\\AppData\\Local\\Temp\\ipykernel_7176\\2249123577.py:10: FutureWarning: The frame.append method is deprecated and will be removed from pandas in a future version. Use pandas.concat instead.\n",
      "  score_data = score_data.append(temp_score_data)\n",
      "C:\\Users\\mrbab\\AppData\\Local\\Temp\\ipykernel_7176\\2249123577.py:10: FutureWarning: The frame.append method is deprecated and will be removed from pandas in a future version. Use pandas.concat instead.\n",
      "  score_data = score_data.append(temp_score_data)\n",
      "C:\\Users\\mrbab\\AppData\\Local\\Temp\\ipykernel_7176\\2249123577.py:10: FutureWarning: The frame.append method is deprecated and will be removed from pandas in a future version. Use pandas.concat instead.\n",
      "  score_data = score_data.append(temp_score_data)\n",
      "C:\\Users\\mrbab\\AppData\\Local\\Temp\\ipykernel_7176\\2249123577.py:10: FutureWarning: The frame.append method is deprecated and will be removed from pandas in a future version. Use pandas.concat instead.\n",
      "  score_data = score_data.append(temp_score_data)\n",
      "C:\\Users\\mrbab\\AppData\\Local\\Temp\\ipykernel_7176\\2249123577.py:10: FutureWarning: The frame.append method is deprecated and will be removed from pandas in a future version. Use pandas.concat instead.\n",
      "  score_data = score_data.append(temp_score_data)\n",
      "C:\\Users\\mrbab\\AppData\\Local\\Temp\\ipykernel_7176\\2249123577.py:10: FutureWarning: The frame.append method is deprecated and will be removed from pandas in a future version. Use pandas.concat instead.\n",
      "  score_data = score_data.append(temp_score_data)\n",
      "C:\\Users\\mrbab\\AppData\\Local\\Temp\\ipykernel_7176\\2249123577.py:10: FutureWarning: The frame.append method is deprecated and will be removed from pandas in a future version. Use pandas.concat instead.\n",
      "  score_data = score_data.append(temp_score_data)\n",
      "C:\\Users\\mrbab\\AppData\\Local\\Temp\\ipykernel_7176\\2249123577.py:10: FutureWarning: The frame.append method is deprecated and will be removed from pandas in a future version. Use pandas.concat instead.\n",
      "  score_data = score_data.append(temp_score_data)\n",
      "C:\\Users\\mrbab\\AppData\\Local\\Temp\\ipykernel_7176\\2249123577.py:10: FutureWarning: The frame.append method is deprecated and will be removed from pandas in a future version. Use pandas.concat instead.\n",
      "  score_data = score_data.append(temp_score_data)\n",
      "C:\\Users\\mrbab\\AppData\\Local\\Temp\\ipykernel_7176\\2249123577.py:10: FutureWarning: The frame.append method is deprecated and will be removed from pandas in a future version. Use pandas.concat instead.\n",
      "  score_data = score_data.append(temp_score_data)\n",
      "C:\\Users\\mrbab\\AppData\\Local\\Temp\\ipykernel_7176\\2249123577.py:10: FutureWarning: The frame.append method is deprecated and will be removed from pandas in a future version. Use pandas.concat instead.\n",
      "  score_data = score_data.append(temp_score_data)\n",
      "C:\\Users\\mrbab\\AppData\\Local\\Temp\\ipykernel_7176\\2249123577.py:10: FutureWarning: The frame.append method is deprecated and will be removed from pandas in a future version. Use pandas.concat instead.\n",
      "  score_data = score_data.append(temp_score_data)\n",
      "C:\\Users\\mrbab\\AppData\\Local\\Temp\\ipykernel_7176\\2249123577.py:10: FutureWarning: The frame.append method is deprecated and will be removed from pandas in a future version. Use pandas.concat instead.\n",
      "  score_data = score_data.append(temp_score_data)\n",
      "C:\\Users\\mrbab\\AppData\\Local\\Temp\\ipykernel_7176\\2249123577.py:10: FutureWarning: The frame.append method is deprecated and will be removed from pandas in a future version. Use pandas.concat instead.\n",
      "  score_data = score_data.append(temp_score_data)\n",
      "C:\\Users\\mrbab\\AppData\\Local\\Temp\\ipykernel_7176\\2249123577.py:10: FutureWarning: The frame.append method is deprecated and will be removed from pandas in a future version. Use pandas.concat instead.\n",
      "  score_data = score_data.append(temp_score_data)\n",
      "C:\\Users\\mrbab\\AppData\\Local\\Temp\\ipykernel_7176\\2249123577.py:10: FutureWarning: The frame.append method is deprecated and will be removed from pandas in a future version. Use pandas.concat instead.\n",
      "  score_data = score_data.append(temp_score_data)\n",
      "C:\\Users\\mrbab\\AppData\\Local\\Temp\\ipykernel_7176\\2249123577.py:10: FutureWarning: The frame.append method is deprecated and will be removed from pandas in a future version. Use pandas.concat instead.\n",
      "  score_data = score_data.append(temp_score_data)\n",
      "C:\\Users\\mrbab\\AppData\\Local\\Temp\\ipykernel_7176\\2249123577.py:10: FutureWarning: The frame.append method is deprecated and will be removed from pandas in a future version. Use pandas.concat instead.\n",
      "  score_data = score_data.append(temp_score_data)\n",
      "C:\\Users\\mrbab\\AppData\\Local\\Temp\\ipykernel_7176\\2249123577.py:10: FutureWarning: The frame.append method is deprecated and will be removed from pandas in a future version. Use pandas.concat instead.\n",
      "  score_data = score_data.append(temp_score_data)\n",
      "C:\\Users\\mrbab\\AppData\\Local\\Temp\\ipykernel_7176\\2249123577.py:10: FutureWarning: The frame.append method is deprecated and will be removed from pandas in a future version. Use pandas.concat instead.\n",
      "  score_data = score_data.append(temp_score_data)\n",
      "C:\\Users\\mrbab\\AppData\\Local\\Temp\\ipykernel_7176\\2249123577.py:10: FutureWarning: The frame.append method is deprecated and will be removed from pandas in a future version. Use pandas.concat instead.\n",
      "  score_data = score_data.append(temp_score_data)\n",
      "C:\\Users\\mrbab\\AppData\\Local\\Temp\\ipykernel_7176\\2249123577.py:10: FutureWarning: The frame.append method is deprecated and will be removed from pandas in a future version. Use pandas.concat instead.\n",
      "  score_data = score_data.append(temp_score_data)\n",
      "C:\\Users\\mrbab\\AppData\\Local\\Temp\\ipykernel_7176\\2249123577.py:10: FutureWarning: The frame.append method is deprecated and will be removed from pandas in a future version. Use pandas.concat instead.\n",
      "  score_data = score_data.append(temp_score_data)\n",
      "C:\\Users\\mrbab\\AppData\\Local\\Temp\\ipykernel_7176\\2249123577.py:10: FutureWarning: The frame.append method is deprecated and will be removed from pandas in a future version. Use pandas.concat instead.\n",
      "  score_data = score_data.append(temp_score_data)\n",
      "C:\\Users\\mrbab\\AppData\\Local\\Temp\\ipykernel_7176\\2249123577.py:10: FutureWarning: The frame.append method is deprecated and will be removed from pandas in a future version. Use pandas.concat instead.\n",
      "  score_data = score_data.append(temp_score_data)\n",
      "C:\\Users\\mrbab\\AppData\\Local\\Temp\\ipykernel_7176\\2249123577.py:10: FutureWarning: The frame.append method is deprecated and will be removed from pandas in a future version. Use pandas.concat instead.\n",
      "  score_data = score_data.append(temp_score_data)\n",
      "C:\\Users\\mrbab\\AppData\\Local\\Temp\\ipykernel_7176\\2249123577.py:10: FutureWarning: The frame.append method is deprecated and will be removed from pandas in a future version. Use pandas.concat instead.\n",
      "  score_data = score_data.append(temp_score_data)\n",
      "C:\\Users\\mrbab\\AppData\\Local\\Temp\\ipykernel_7176\\2249123577.py:10: FutureWarning: The frame.append method is deprecated and will be removed from pandas in a future version. Use pandas.concat instead.\n",
      "  score_data = score_data.append(temp_score_data)\n",
      "C:\\Users\\mrbab\\AppData\\Local\\Temp\\ipykernel_7176\\2249123577.py:10: FutureWarning: The frame.append method is deprecated and will be removed from pandas in a future version. Use pandas.concat instead.\n",
      "  score_data = score_data.append(temp_score_data)\n",
      "C:\\Users\\mrbab\\AppData\\Local\\Temp\\ipykernel_7176\\2249123577.py:10: FutureWarning: The frame.append method is deprecated and will be removed from pandas in a future version. Use pandas.concat instead.\n",
      "  score_data = score_data.append(temp_score_data)\n",
      "C:\\Users\\mrbab\\AppData\\Local\\Temp\\ipykernel_7176\\2249123577.py:10: FutureWarning: The frame.append method is deprecated and will be removed from pandas in a future version. Use pandas.concat instead.\n",
      "  score_data = score_data.append(temp_score_data)\n",
      "C:\\Users\\mrbab\\AppData\\Local\\Temp\\ipykernel_7176\\2249123577.py:10: FutureWarning: The frame.append method is deprecated and will be removed from pandas in a future version. Use pandas.concat instead.\n",
      "  score_data = score_data.append(temp_score_data)\n",
      "C:\\Users\\mrbab\\AppData\\Local\\Temp\\ipykernel_7176\\2249123577.py:10: FutureWarning: The frame.append method is deprecated and will be removed from pandas in a future version. Use pandas.concat instead.\n",
      "  score_data = score_data.append(temp_score_data)\n",
      "C:\\Users\\mrbab\\AppData\\Local\\Temp\\ipykernel_7176\\2249123577.py:10: FutureWarning: The frame.append method is deprecated and will be removed from pandas in a future version. Use pandas.concat instead.\n",
      "  score_data = score_data.append(temp_score_data)\n",
      "C:\\Users\\mrbab\\AppData\\Local\\Temp\\ipykernel_7176\\2249123577.py:10: FutureWarning: The frame.append method is deprecated and will be removed from pandas in a future version. Use pandas.concat instead.\n",
      "  score_data = score_data.append(temp_score_data)\n",
      "C:\\Users\\mrbab\\AppData\\Local\\Temp\\ipykernel_7176\\2249123577.py:10: FutureWarning: The frame.append method is deprecated and will be removed from pandas in a future version. Use pandas.concat instead.\n",
      "  score_data = score_data.append(temp_score_data)\n",
      "C:\\Users\\mrbab\\AppData\\Local\\Temp\\ipykernel_7176\\2249123577.py:10: FutureWarning: The frame.append method is deprecated and will be removed from pandas in a future version. Use pandas.concat instead.\n",
      "  score_data = score_data.append(temp_score_data)\n",
      "C:\\Users\\mrbab\\AppData\\Local\\Temp\\ipykernel_7176\\2249123577.py:10: FutureWarning: The frame.append method is deprecated and will be removed from pandas in a future version. Use pandas.concat instead.\n",
      "  score_data = score_data.append(temp_score_data)\n",
      "C:\\Users\\mrbab\\AppData\\Local\\Temp\\ipykernel_7176\\2249123577.py:10: FutureWarning: The frame.append method is deprecated and will be removed from pandas in a future version. Use pandas.concat instead.\n",
      "  score_data = score_data.append(temp_score_data)\n",
      "C:\\Users\\mrbab\\AppData\\Local\\Temp\\ipykernel_7176\\2249123577.py:10: FutureWarning: The frame.append method is deprecated and will be removed from pandas in a future version. Use pandas.concat instead.\n",
      "  score_data = score_data.append(temp_score_data)\n",
      "C:\\Users\\mrbab\\AppData\\Local\\Temp\\ipykernel_7176\\2249123577.py:10: FutureWarning: The frame.append method is deprecated and will be removed from pandas in a future version. Use pandas.concat instead.\n",
      "  score_data = score_data.append(temp_score_data)\n",
      "C:\\Users\\mrbab\\AppData\\Local\\Temp\\ipykernel_7176\\2249123577.py:10: FutureWarning: The frame.append method is deprecated and will be removed from pandas in a future version. Use pandas.concat instead.\n",
      "  score_data = score_data.append(temp_score_data)\n",
      "C:\\Users\\mrbab\\AppData\\Local\\Temp\\ipykernel_7176\\2249123577.py:10: FutureWarning: The frame.append method is deprecated and will be removed from pandas in a future version. Use pandas.concat instead.\n",
      "  score_data = score_data.append(temp_score_data)\n",
      "C:\\Users\\mrbab\\AppData\\Local\\Temp\\ipykernel_7176\\2249123577.py:10: FutureWarning: The frame.append method is deprecated and will be removed from pandas in a future version. Use pandas.concat instead.\n",
      "  score_data = score_data.append(temp_score_data)\n",
      "C:\\Users\\mrbab\\AppData\\Local\\Temp\\ipykernel_7176\\2249123577.py:10: FutureWarning: The frame.append method is deprecated and will be removed from pandas in a future version. Use pandas.concat instead.\n",
      "  score_data = score_data.append(temp_score_data)\n",
      "C:\\Users\\mrbab\\AppData\\Local\\Temp\\ipykernel_7176\\2249123577.py:10: FutureWarning: The frame.append method is deprecated and will be removed from pandas in a future version. Use pandas.concat instead.\n",
      "  score_data = score_data.append(temp_score_data)\n",
      "C:\\Users\\mrbab\\AppData\\Local\\Temp\\ipykernel_7176\\2249123577.py:10: FutureWarning: The frame.append method is deprecated and will be removed from pandas in a future version. Use pandas.concat instead.\n",
      "  score_data = score_data.append(temp_score_data)\n",
      "C:\\Users\\mrbab\\AppData\\Local\\Temp\\ipykernel_7176\\2249123577.py:10: FutureWarning: The frame.append method is deprecated and will be removed from pandas in a future version. Use pandas.concat instead.\n",
      "  score_data = score_data.append(temp_score_data)\n",
      "C:\\Users\\mrbab\\AppData\\Local\\Temp\\ipykernel_7176\\2249123577.py:10: FutureWarning: The frame.append method is deprecated and will be removed from pandas in a future version. Use pandas.concat instead.\n",
      "  score_data = score_data.append(temp_score_data)\n",
      "C:\\Users\\mrbab\\AppData\\Local\\Temp\\ipykernel_7176\\2249123577.py:10: FutureWarning: The frame.append method is deprecated and will be removed from pandas in a future version. Use pandas.concat instead.\n",
      "  score_data = score_data.append(temp_score_data)\n",
      "C:\\Users\\mrbab\\AppData\\Local\\Temp\\ipykernel_7176\\2249123577.py:10: FutureWarning: The frame.append method is deprecated and will be removed from pandas in a future version. Use pandas.concat instead.\n",
      "  score_data = score_data.append(temp_score_data)\n",
      "C:\\Users\\mrbab\\AppData\\Local\\Temp\\ipykernel_7176\\2249123577.py:10: FutureWarning: The frame.append method is deprecated and will be removed from pandas in a future version. Use pandas.concat instead.\n",
      "  score_data = score_data.append(temp_score_data)\n",
      "C:\\Users\\mrbab\\AppData\\Local\\Temp\\ipykernel_7176\\2249123577.py:10: FutureWarning: The frame.append method is deprecated and will be removed from pandas in a future version. Use pandas.concat instead.\n",
      "  score_data = score_data.append(temp_score_data)\n",
      "C:\\Users\\mrbab\\AppData\\Local\\Temp\\ipykernel_7176\\2249123577.py:10: FutureWarning: The frame.append method is deprecated and will be removed from pandas in a future version. Use pandas.concat instead.\n",
      "  score_data = score_data.append(temp_score_data)\n",
      "C:\\Users\\mrbab\\AppData\\Local\\Temp\\ipykernel_7176\\2249123577.py:10: FutureWarning: The frame.append method is deprecated and will be removed from pandas in a future version. Use pandas.concat instead.\n",
      "  score_data = score_data.append(temp_score_data)\n",
      "C:\\Users\\mrbab\\AppData\\Local\\Temp\\ipykernel_7176\\2249123577.py:10: FutureWarning: The frame.append method is deprecated and will be removed from pandas in a future version. Use pandas.concat instead.\n",
      "  score_data = score_data.append(temp_score_data)\n",
      "C:\\Users\\mrbab\\AppData\\Local\\Temp\\ipykernel_7176\\2249123577.py:10: FutureWarning: The frame.append method is deprecated and will be removed from pandas in a future version. Use pandas.concat instead.\n",
      "  score_data = score_data.append(temp_score_data)\n",
      "C:\\Users\\mrbab\\AppData\\Local\\Temp\\ipykernel_7176\\2249123577.py:10: FutureWarning: The frame.append method is deprecated and will be removed from pandas in a future version. Use pandas.concat instead.\n",
      "  score_data = score_data.append(temp_score_data)\n"
     ]
    }
   ],
   "source": [
    "for depth_level in max_depth_values:\n",
    "    clf = tree.DecisionTreeClassifier(criterion='entropy', max_depth=depth_level, random_state=rs)\n",
    "    clf.fit(X_train, y_train)\n",
    "    train_score = clf.score(X_train, y_train)\n",
    "    test_score = clf.score(X_test, y_test)\n",
    "    temp_score_data = pd.DataFrame({'depth_level': [depth_level],\n",
    "                                    'train_score': [train_score],\n",
    "                                    'test_score': [test_score]})\n",
    "\n",
    "    score_data = score_data.append(temp_score_data)"
   ],
   "metadata": {
    "collapsed": false,
    "ExecuteTime": {
     "start_time": "2023-04-24T21:12:28.195418Z",
     "end_time": "2023-04-24T21:12:28.645440Z"
    }
   }
  },
  {
   "cell_type": "code",
   "execution_count": 186,
   "outputs": [],
   "source": [
    "score_data_long = pd.melt(score_data, id_vars=['depth_level'],\n",
    "                          value_vars=['train_score', 'test_score'],\n",
    "                          var_name='set_type', value_name='score')"
   ],
   "metadata": {
    "collapsed": false,
    "ExecuteTime": {
     "start_time": "2023-04-24T21:12:28.647417Z",
     "end_time": "2023-04-24T21:12:28.668413Z"
    }
   }
  },
  {
   "cell_type": "code",
   "execution_count": 187,
   "outputs": [
    {
     "data": {
      "text/plain": "     depth_level     set_type  score\n0              1  train_score   0.70\n1              2  train_score   0.97\n2              3  train_score   0.99\n3              4  train_score   1.00\n4              5  train_score   1.00\n..           ...          ...    ...\n193           95   test_score   0.92\n194           96   test_score   0.92\n195           97   test_score   0.92\n196           98   test_score   0.94\n197           99   test_score   0.92\n\n[198 rows x 3 columns]",
      "text/html": "<div>\n<style scoped>\n    .dataframe tbody tr th:only-of-type {\n        vertical-align: middle;\n    }\n\n    .dataframe tbody tr th {\n        vertical-align: top;\n    }\n\n    .dataframe thead th {\n        text-align: right;\n    }\n</style>\n<table border=\"1\" class=\"dataframe\">\n  <thead>\n    <tr style=\"text-align: right;\">\n      <th></th>\n      <th>depth_level</th>\n      <th>set_type</th>\n      <th>score</th>\n    </tr>\n  </thead>\n  <tbody>\n    <tr>\n      <th>0</th>\n      <td>1</td>\n      <td>train_score</td>\n      <td>0.70</td>\n    </tr>\n    <tr>\n      <th>1</th>\n      <td>2</td>\n      <td>train_score</td>\n      <td>0.97</td>\n    </tr>\n    <tr>\n      <th>2</th>\n      <td>3</td>\n      <td>train_score</td>\n      <td>0.99</td>\n    </tr>\n    <tr>\n      <th>3</th>\n      <td>4</td>\n      <td>train_score</td>\n      <td>1.00</td>\n    </tr>\n    <tr>\n      <th>4</th>\n      <td>5</td>\n      <td>train_score</td>\n      <td>1.00</td>\n    </tr>\n    <tr>\n      <th>...</th>\n      <td>...</td>\n      <td>...</td>\n      <td>...</td>\n    </tr>\n    <tr>\n      <th>193</th>\n      <td>95</td>\n      <td>test_score</td>\n      <td>0.92</td>\n    </tr>\n    <tr>\n      <th>194</th>\n      <td>96</td>\n      <td>test_score</td>\n      <td>0.92</td>\n    </tr>\n    <tr>\n      <th>195</th>\n      <td>97</td>\n      <td>test_score</td>\n      <td>0.92</td>\n    </tr>\n    <tr>\n      <th>196</th>\n      <td>98</td>\n      <td>test_score</td>\n      <td>0.94</td>\n    </tr>\n    <tr>\n      <th>197</th>\n      <td>99</td>\n      <td>test_score</td>\n      <td>0.92</td>\n    </tr>\n  </tbody>\n</table>\n<p>198 rows × 3 columns</p>\n</div>"
     },
     "execution_count": 187,
     "metadata": {},
     "output_type": "execute_result"
    }
   ],
   "source": [
    "score_data_long"
   ],
   "metadata": {
    "collapsed": false,
    "ExecuteTime": {
     "start_time": "2023-04-24T21:12:28.662413Z",
     "end_time": "2023-04-24T21:12:28.686416Z"
    }
   }
  },
  {
   "cell_type": "code",
   "execution_count": 188,
   "outputs": [
    {
     "data": {
      "text/plain": "<Axes: xlabel='depth_level', ylabel='score'>"
     },
     "execution_count": 188,
     "metadata": {},
     "output_type": "execute_result"
    },
    {
     "data": {
      "text/plain": "<Figure size 640x480 with 1 Axes>",
      "image/png": "[encoded data removed]"
     },
     "metadata": {},
     "output_type": "display_data"
    }
   ],
   "source": [
    "sns.lineplot(x='depth_level', y='score', hue='set_type', data=score_data_long)"
   ],
   "metadata": {
    "collapsed": false,
    "ExecuteTime": {
     "start_time": "2023-04-24T21:12:28.679415Z",
     "end_time": "2023-04-24T21:12:29.016456Z"
    }
   }
  },
  {
   "cell_type": "code",
   "execution_count": 189,
   "outputs": [
    {
     "data": {
      "text/plain": "     depth_level    set_type  score\n99             1  test_score   0.60\n100            2  test_score   0.94\n101            3  test_score   0.94\n102            4  test_score   0.92\n103            5  test_score   0.92",
      "text/html": "<div>\n<style scoped>\n    .dataframe tbody tr th:only-of-type {\n        vertical-align: middle;\n    }\n\n    .dataframe tbody tr th {\n        vertical-align: top;\n    }\n\n    .dataframe thead th {\n        text-align: right;\n    }\n</style>\n<table border=\"1\" class=\"dataframe\">\n  <thead>\n    <tr style=\"text-align: right;\">\n      <th></th>\n      <th>depth_level</th>\n      <th>set_type</th>\n      <th>score</th>\n    </tr>\n  </thead>\n  <tbody>\n    <tr>\n      <th>99</th>\n      <td>1</td>\n      <td>test_score</td>\n      <td>0.60</td>\n    </tr>\n    <tr>\n      <th>100</th>\n      <td>2</td>\n      <td>test_score</td>\n      <td>0.94</td>\n    </tr>\n    <tr>\n      <th>101</th>\n      <td>3</td>\n      <td>test_score</td>\n      <td>0.94</td>\n    </tr>\n    <tr>\n      <th>102</th>\n      <td>4</td>\n      <td>test_score</td>\n      <td>0.92</td>\n    </tr>\n    <tr>\n      <th>103</th>\n      <td>5</td>\n      <td>test_score</td>\n      <td>0.92</td>\n    </tr>\n  </tbody>\n</table>\n</div>"
     },
     "execution_count": 189,
     "metadata": {},
     "output_type": "execute_result"
    }
   ],
   "source": [
    "score_data_long.query(\"set_type == 'test_score'\").head()"
   ],
   "metadata": {
    "collapsed": false,
    "ExecuteTime": {
     "start_time": "2023-04-24T21:12:28.989421Z",
     "end_time": "2023-04-24T21:12:29.019412Z"
    }
   }
  },
  {
   "cell_type": "code",
   "execution_count": 190,
   "outputs": [],
   "source": [
    "# train_iris = pd.read_csv(\"https://stepik.org/media/attachments/course/4852/train_iris.csv\", index_col=0)\n",
    "# test_iris = pd.read_csv(\"https://stepik.org/media/attachments/course/4852/test_iris.csv\", index_col=0)\n",
    "# # test_iris = iris_test_data\n",
    "# # train_iris = iris_train_data\n",
    "# X_train = train_iris.drop([\"species\"], axis=1)\n",
    "# y_train = train_iris.species\n",
    "# X_test = test_iris.drop([\"species\"], axis=1)\n",
    "# y_test = test_iris.species\n",
    "# scores_data = pd.DataFrame()\n",
    "#\n",
    "#\n",
    "#\n",
    "# rs = np.random.seed(0)\n",
    "# max_depth_values = range(1,100)\n",
    "# for max_depth in max_depth_values:\n",
    "#     ttt = tree.DecisionTreeClassifier(criterion='entropy', max_depth=max_depth, random_state=rs)\n",
    "#     ttt.fit(X_train, y_train)\n",
    "#     train_score = ttt.score(X_train, y_train)\n",
    "#     test_score = ttt.score(X_test, y_test)\n",
    "#     tmp_score_data = pd.DataFrame({'d': [max_depth], 'test': [test_score], 'train': [train_score]})\n",
    "#     scores_data = scores_data.append(tmp_score_data, sort=True)\n",
    "#\n",
    "#\n",
    "#\n",
    "# data_melt = pd.melt(scores_data, id_vars=['d'], value_vars=['train', 'test'], var_name=['type'], value_name='score')\n",
    "#\n",
    "#\n",
    "# plt.figure(figsize=(16, 6))\n"
   ],
   "metadata": {
    "collapsed": false,
    "ExecuteTime": {
     "start_time": "2023-04-24T21:12:29.005420Z",
     "end_time": "2023-04-24T21:12:29.019412Z"
    }
   }
  },
  {
   "cell_type": "code",
   "execution_count": 191,
   "outputs": [],
   "source": [
    "# sns.lineplot(x=\"d\", y=\"score\", hue=\"type\", data=data_melt)"
   ],
   "metadata": {
    "collapsed": false,
    "ExecuteTime": {
     "start_time": "2023-04-24T21:12:29.021419Z",
     "end_time": "2023-04-24T21:12:29.055112Z"
    }
   }
  },
  {
   "cell_type": "code",
   "execution_count": 191,
   "outputs": [],
   "source": [],
   "metadata": {
    "collapsed": false,
    "ExecuteTime": {
     "start_time": "2023-04-24T21:12:29.036416Z",
     "end_time": "2023-04-24T21:12:29.078156Z"
    }
   }
  }
 ],
 "metadata": {
  "kernelspec": {
   "display_name": "Python 3",
   "language": "python",
   "name": "python3"
  },
  "language_info": {
   "codemirror_mode": {
    "name": "ipython",
    "version": 2
   },
   "file_extension": ".py",
   "mimetype": "text/x-python",
   "name": "python",
   "nbconvert_exporter": "python",
   "pygments_lexer": "ipython2",
   "version": "2.7.6"
  }
 },
 "nbformat": 4,
 "nbformat_minor": 0
}
