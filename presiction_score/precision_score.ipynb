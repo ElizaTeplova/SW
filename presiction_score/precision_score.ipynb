{
 "cells": [
  {
   "cell_type": "code",
   "execution_count": 1,
   "metadata": {
    "collapsed": true,
    "ExecuteTime": {
     "start_time": "2023-04-29T15:43:10.026136Z",
     "end_time": "2023-04-29T15:43:13.908216Z"
    }
   },
   "outputs": [],
   "source": [
    "from sklearn.tree import DecisionTreeClassifier\n",
    "from sklearn.metrics import precision_score\n",
    "from sklearn.model_selection import cross_val_score\n",
    "from sklearn.model_selection import train_test_split"
   ]
  },
  {
   "cell_type": "code",
   "execution_count": 39,
   "outputs": [],
   "source": [
    "from sklearn.model_selection import cross_val_predict\n",
    "from sklearn.metrics import precision_score"
   ],
   "metadata": {
    "collapsed": false,
    "ExecuteTime": {
     "start_time": "2023-04-29T16:15:13.033527Z",
     "end_time": "2023-04-29T16:15:13.057532Z"
    }
   }
  },
  {
   "cell_type": "code",
   "execution_count": 2,
   "outputs": [],
   "source": [
    "import pandas as pd\n",
    "import numpy as np\n",
    "import seaborn as sns\n",
    "import matplotlib.pyplot as plt\n",
    "%matplotlib inline"
   ],
   "metadata": {
    "collapsed": false,
    "ExecuteTime": {
     "start_time": "2023-04-29T15:43:45.003990Z",
     "end_time": "2023-04-29T15:43:45.146913Z"
    }
   }
  },
  {
   "cell_type": "code",
   "execution_count": 13,
   "outputs": [],
   "source": [
    "songs = pd.read_csv('songs.csv')"
   ],
   "metadata": {
    "collapsed": false,
    "ExecuteTime": {
     "start_time": "2023-04-29T15:52:10.960513Z",
     "end_time": "2023-04-29T15:52:10.988529Z"
    }
   }
  },
  {
   "cell_type": "code",
   "execution_count": 14,
   "outputs": [
    {
     "data": {
      "text/plain": "                   song  year          artist    genre  \\\n0            the-ownerz  2007       gangstarr  Hip-Hop   \n1  dead-sound-of-misery  2006  blind-guardian    Metal   \n2         modred-s-song  2006  blind-guardian    Metal   \n3        the-ninth-wave  2015  blind-guardian    Metal   \n4                skills  2014       gangstarr  Hip-Hop   \n\n                                              lyrics  length  commas  \\\n0  \"One-two..\"\\n\"One-two, shots to the chin.. kno...    1300      24   \n1  It's dark\\nLet's do it now\\nBring in the siren...    1566       0   \n2  I've lost my battle before it starts\\nmy first...     996       1   \n3  As dark night embraces\\nWe are the nation\\nI w...    2868       5   \n4  Skills, skills, skills\\n\"My Microphone\"\\n\"It's...    3351      22   \n\n   exclamations  colons  hyphens  \n0             5       0       11  \n1             0       0        0  \n2             0       1        0  \n3             0       0        0  \n4             0       0        3  ",
      "text/html": "<div>\n<style scoped>\n    .dataframe tbody tr th:only-of-type {\n        vertical-align: middle;\n    }\n\n    .dataframe tbody tr th {\n        vertical-align: top;\n    }\n\n    .dataframe thead th {\n        text-align: right;\n    }\n</style>\n<table border=\"1\" class=\"dataframe\">\n  <thead>\n    <tr style=\"text-align: right;\">\n      <th></th>\n      <th>song</th>\n      <th>year</th>\n      <th>artist</th>\n      <th>genre</th>\n      <th>lyrics</th>\n      <th>length</th>\n      <th>commas</th>\n      <th>exclamations</th>\n      <th>colons</th>\n      <th>hyphens</th>\n    </tr>\n  </thead>\n  <tbody>\n    <tr>\n      <th>0</th>\n      <td>the-ownerz</td>\n      <td>2007</td>\n      <td>gangstarr</td>\n      <td>Hip-Hop</td>\n      <td>\"One-two..\"\\n\"One-two, shots to the chin.. kno...</td>\n      <td>1300</td>\n      <td>24</td>\n      <td>5</td>\n      <td>0</td>\n      <td>11</td>\n    </tr>\n    <tr>\n      <th>1</th>\n      <td>dead-sound-of-misery</td>\n      <td>2006</td>\n      <td>blind-guardian</td>\n      <td>Metal</td>\n      <td>It's dark\\nLet's do it now\\nBring in the siren...</td>\n      <td>1566</td>\n      <td>0</td>\n      <td>0</td>\n      <td>0</td>\n      <td>0</td>\n    </tr>\n    <tr>\n      <th>2</th>\n      <td>modred-s-song</td>\n      <td>2006</td>\n      <td>blind-guardian</td>\n      <td>Metal</td>\n      <td>I've lost my battle before it starts\\nmy first...</td>\n      <td>996</td>\n      <td>1</td>\n      <td>0</td>\n      <td>1</td>\n      <td>0</td>\n    </tr>\n    <tr>\n      <th>3</th>\n      <td>the-ninth-wave</td>\n      <td>2015</td>\n      <td>blind-guardian</td>\n      <td>Metal</td>\n      <td>As dark night embraces\\nWe are the nation\\nI w...</td>\n      <td>2868</td>\n      <td>5</td>\n      <td>0</td>\n      <td>0</td>\n      <td>0</td>\n    </tr>\n    <tr>\n      <th>4</th>\n      <td>skills</td>\n      <td>2014</td>\n      <td>gangstarr</td>\n      <td>Hip-Hop</td>\n      <td>Skills, skills, skills\\n\"My Microphone\"\\n\"It's...</td>\n      <td>3351</td>\n      <td>22</td>\n      <td>0</td>\n      <td>0</td>\n      <td>3</td>\n    </tr>\n  </tbody>\n</table>\n</div>"
     },
     "execution_count": 14,
     "metadata": {},
     "output_type": "execute_result"
    }
   ],
   "source": [
    "songs.head()"
   ],
   "metadata": {
    "collapsed": false,
    "ExecuteTime": {
     "start_time": "2023-04-29T15:52:11.783391Z",
     "end_time": "2023-04-29T15:52:11.807400Z"
    }
   }
  },
  {
   "cell_type": "code",
   "execution_count": 15,
   "outputs": [],
   "source": [
    "songs = songs.drop(['lyrics'], axis=1)"
   ],
   "metadata": {
    "collapsed": false,
    "ExecuteTime": {
     "start_time": "2023-04-29T15:52:12.628733Z",
     "end_time": "2023-04-29T15:52:12.640731Z"
    }
   }
  },
  {
   "cell_type": "code",
   "execution_count": 18,
   "outputs": [],
   "source": [
    "songs = songs.drop(['song'], axis=1)"
   ],
   "metadata": {
    "collapsed": false,
    "ExecuteTime": {
     "start_time": "2023-04-29T15:52:52.839231Z",
     "end_time": "2023-04-29T15:52:52.877844Z"
    }
   }
  },
  {
   "cell_type": "code",
   "execution_count": 21,
   "outputs": [
    {
     "data": {
      "text/plain": "   year          artist    genre  length  commas  exclamations  colons  \\\n0  2007       gangstarr  Hip-Hop    1300      24             5       0   \n1  2006  blind-guardian    Metal    1566       0             0       0   \n2  2006  blind-guardian    Metal     996       1             0       1   \n3  2015  blind-guardian    Metal    2868       5             0       0   \n4  2014       gangstarr  Hip-Hop    3351      22             0       0   \n\n   hyphens  \n0       11  \n1        0  \n2        0  \n3        0  \n4        3  ",
      "text/html": "<div>\n<style scoped>\n    .dataframe tbody tr th:only-of-type {\n        vertical-align: middle;\n    }\n\n    .dataframe tbody tr th {\n        vertical-align: top;\n    }\n\n    .dataframe thead th {\n        text-align: right;\n    }\n</style>\n<table border=\"1\" class=\"dataframe\">\n  <thead>\n    <tr style=\"text-align: right;\">\n      <th></th>\n      <th>year</th>\n      <th>artist</th>\n      <th>genre</th>\n      <th>length</th>\n      <th>commas</th>\n      <th>exclamations</th>\n      <th>colons</th>\n      <th>hyphens</th>\n    </tr>\n  </thead>\n  <tbody>\n    <tr>\n      <th>0</th>\n      <td>2007</td>\n      <td>gangstarr</td>\n      <td>Hip-Hop</td>\n      <td>1300</td>\n      <td>24</td>\n      <td>5</td>\n      <td>0</td>\n      <td>11</td>\n    </tr>\n    <tr>\n      <th>1</th>\n      <td>2006</td>\n      <td>blind-guardian</td>\n      <td>Metal</td>\n      <td>1566</td>\n      <td>0</td>\n      <td>0</td>\n      <td>0</td>\n      <td>0</td>\n    </tr>\n    <tr>\n      <th>2</th>\n      <td>2006</td>\n      <td>blind-guardian</td>\n      <td>Metal</td>\n      <td>996</td>\n      <td>1</td>\n      <td>0</td>\n      <td>1</td>\n      <td>0</td>\n    </tr>\n    <tr>\n      <th>3</th>\n      <td>2015</td>\n      <td>blind-guardian</td>\n      <td>Metal</td>\n      <td>2868</td>\n      <td>5</td>\n      <td>0</td>\n      <td>0</td>\n      <td>0</td>\n    </tr>\n    <tr>\n      <th>4</th>\n      <td>2014</td>\n      <td>gangstarr</td>\n      <td>Hip-Hop</td>\n      <td>3351</td>\n      <td>22</td>\n      <td>0</td>\n      <td>0</td>\n      <td>3</td>\n    </tr>\n  </tbody>\n</table>\n</div>"
     },
     "execution_count": 21,
     "metadata": {},
     "output_type": "execute_result"
    }
   ],
   "source": [
    "songs.head()"
   ],
   "metadata": {
    "collapsed": false,
    "ExecuteTime": {
     "start_time": "2023-04-29T15:54:20.316590Z",
     "end_time": "2023-04-29T15:54:20.346560Z"
    }
   }
  },
  {
   "cell_type": "code",
   "execution_count": 22,
   "outputs": [],
   "source": [
    "X = songs.drop(['artist'], axis=1)\n",
    "y = songs.artist"
   ],
   "metadata": {
    "collapsed": false,
    "ExecuteTime": {
     "start_time": "2023-04-29T15:54:31.380721Z",
     "end_time": "2023-04-29T15:54:31.394699Z"
    }
   }
  },
  {
   "cell_type": "code",
   "execution_count": 23,
   "outputs": [],
   "source": [
    "X = pd.get_dummies(X)"
   ],
   "metadata": {
    "collapsed": false,
    "ExecuteTime": {
     "start_time": "2023-04-29T15:54:43.962410Z",
     "end_time": "2023-04-29T15:54:44.024244Z"
    }
   }
  },
  {
   "cell_type": "code",
   "execution_count": 24,
   "outputs": [
    {
     "data": {
      "text/plain": "   year  length  commas  exclamations  colons  hyphens  genre_Hip-Hop  \\\n0  2007    1300      24             5       0       11              1   \n1  2006    1566       0             0       0        0              0   \n2  2006     996       1             0       1        0              0   \n3  2015    2868       5             0       0        0              0   \n4  2014    3351      22             0       0        3              1   \n\n   genre_Metal  genre_Pop  \n0            0          0  \n1            1          0  \n2            1          0  \n3            1          0  \n4            0          0  ",
      "text/html": "<div>\n<style scoped>\n    .dataframe tbody tr th:only-of-type {\n        vertical-align: middle;\n    }\n\n    .dataframe tbody tr th {\n        vertical-align: top;\n    }\n\n    .dataframe thead th {\n        text-align: right;\n    }\n</style>\n<table border=\"1\" class=\"dataframe\">\n  <thead>\n    <tr style=\"text-align: right;\">\n      <th></th>\n      <th>year</th>\n      <th>length</th>\n      <th>commas</th>\n      <th>exclamations</th>\n      <th>colons</th>\n      <th>hyphens</th>\n      <th>genre_Hip-Hop</th>\n      <th>genre_Metal</th>\n      <th>genre_Pop</th>\n    </tr>\n  </thead>\n  <tbody>\n    <tr>\n      <th>0</th>\n      <td>2007</td>\n      <td>1300</td>\n      <td>24</td>\n      <td>5</td>\n      <td>0</td>\n      <td>11</td>\n      <td>1</td>\n      <td>0</td>\n      <td>0</td>\n    </tr>\n    <tr>\n      <th>1</th>\n      <td>2006</td>\n      <td>1566</td>\n      <td>0</td>\n      <td>0</td>\n      <td>0</td>\n      <td>0</td>\n      <td>0</td>\n      <td>1</td>\n      <td>0</td>\n    </tr>\n    <tr>\n      <th>2</th>\n      <td>2006</td>\n      <td>996</td>\n      <td>1</td>\n      <td>0</td>\n      <td>1</td>\n      <td>0</td>\n      <td>0</td>\n      <td>1</td>\n      <td>0</td>\n    </tr>\n    <tr>\n      <th>3</th>\n      <td>2015</td>\n      <td>2868</td>\n      <td>5</td>\n      <td>0</td>\n      <td>0</td>\n      <td>0</td>\n      <td>0</td>\n      <td>1</td>\n      <td>0</td>\n    </tr>\n    <tr>\n      <th>4</th>\n      <td>2014</td>\n      <td>3351</td>\n      <td>22</td>\n      <td>0</td>\n      <td>0</td>\n      <td>3</td>\n      <td>1</td>\n      <td>0</td>\n      <td>0</td>\n    </tr>\n  </tbody>\n</table>\n</div>"
     },
     "execution_count": 24,
     "metadata": {},
     "output_type": "execute_result"
    }
   ],
   "source": [
    "X.head()"
   ],
   "metadata": {
    "collapsed": false,
    "ExecuteTime": {
     "start_time": "2023-04-29T15:54:47.798901Z",
     "end_time": "2023-04-29T15:54:47.854906Z"
    }
   }
  },
  {
   "cell_type": "code",
   "execution_count": 25,
   "outputs": [],
   "source": [
    "X_train, X_test, y_train, y_test = train_test_split(X, y, test_size=0.33, random_state=0)"
   ],
   "metadata": {
    "collapsed": false,
    "ExecuteTime": {
     "start_time": "2023-04-29T15:56:31.829095Z",
     "end_time": "2023-04-29T15:56:31.875101Z"
    }
   }
  },
  {
   "cell_type": "code",
   "execution_count": 26,
   "outputs": [],
   "source": [
    "depth_level = range(1, 50)"
   ],
   "metadata": {
    "collapsed": false,
    "ExecuteTime": {
     "start_time": "2023-04-29T16:00:16.869903Z",
     "end_time": "2023-04-29T16:00:16.877910Z"
    }
   }
  },
  {
   "cell_type": "code",
   "execution_count": 33,
   "outputs": [],
   "source": [
    "score_data = pd.DataFrame()"
   ],
   "metadata": {
    "collapsed": false,
    "ExecuteTime": {
     "start_time": "2023-04-29T16:09:22.294285Z",
     "end_time": "2023-04-29T16:09:22.315041Z"
    }
   }
  },
  {
   "cell_type": "code",
   "execution_count": 35,
   "outputs": [
    {
     "name": "stderr",
     "output_type": "stream",
     "text": [
      "C:\\Users\\mrbab\\AppData\\Local\\Temp\\ipykernel_12600\\3452069279.py:13: FutureWarning: The frame.append method is deprecated and will be removed from pandas in a future version. Use pandas.concat instead.\n",
      "  score_data = score_data.append(temp_score_data)\n",
      "C:\\Users\\mrbab\\AppData\\Local\\Temp\\ipykernel_12600\\3452069279.py:13: FutureWarning: The frame.append method is deprecated and will be removed from pandas in a future version. Use pandas.concat instead.\n",
      "  score_data = score_data.append(temp_score_data)\n",
      "C:\\Users\\mrbab\\AppData\\Local\\Temp\\ipykernel_12600\\3452069279.py:13: FutureWarning: The frame.append method is deprecated and will be removed from pandas in a future version. Use pandas.concat instead.\n",
      "  score_data = score_data.append(temp_score_data)\n",
      "C:\\Users\\mrbab\\AppData\\Local\\Temp\\ipykernel_12600\\3452069279.py:13: FutureWarning: The frame.append method is deprecated and will be removed from pandas in a future version. Use pandas.concat instead.\n",
      "  score_data = score_data.append(temp_score_data)\n",
      "C:\\Users\\mrbab\\AppData\\Local\\Temp\\ipykernel_12600\\3452069279.py:13: FutureWarning: The frame.append method is deprecated and will be removed from pandas in a future version. Use pandas.concat instead.\n",
      "  score_data = score_data.append(temp_score_data)\n",
      "C:\\Users\\mrbab\\AppData\\Local\\Temp\\ipykernel_12600\\3452069279.py:13: FutureWarning: The frame.append method is deprecated and will be removed from pandas in a future version. Use pandas.concat instead.\n",
      "  score_data = score_data.append(temp_score_data)\n",
      "C:\\Users\\mrbab\\AppData\\Local\\Temp\\ipykernel_12600\\3452069279.py:13: FutureWarning: The frame.append method is deprecated and will be removed from pandas in a future version. Use pandas.concat instead.\n",
      "  score_data = score_data.append(temp_score_data)\n",
      "C:\\Users\\mrbab\\AppData\\Local\\Temp\\ipykernel_12600\\3452069279.py:13: FutureWarning: The frame.append method is deprecated and will be removed from pandas in a future version. Use pandas.concat instead.\n",
      "  score_data = score_data.append(temp_score_data)\n",
      "C:\\Users\\mrbab\\AppData\\Local\\Temp\\ipykernel_12600\\3452069279.py:13: FutureWarning: The frame.append method is deprecated and will be removed from pandas in a future version. Use pandas.concat instead.\n",
      "  score_data = score_data.append(temp_score_data)\n",
      "C:\\Users\\mrbab\\AppData\\Local\\Temp\\ipykernel_12600\\3452069279.py:13: FutureWarning: The frame.append method is deprecated and will be removed from pandas in a future version. Use pandas.concat instead.\n",
      "  score_data = score_data.append(temp_score_data)\n",
      "C:\\Users\\mrbab\\AppData\\Local\\Temp\\ipykernel_12600\\3452069279.py:13: FutureWarning: The frame.append method is deprecated and will be removed from pandas in a future version. Use pandas.concat instead.\n",
      "  score_data = score_data.append(temp_score_data)\n",
      "C:\\Users\\mrbab\\AppData\\Local\\Temp\\ipykernel_12600\\3452069279.py:13: FutureWarning: The frame.append method is deprecated and will be removed from pandas in a future version. Use pandas.concat instead.\n",
      "  score_data = score_data.append(temp_score_data)\n",
      "C:\\Users\\mrbab\\AppData\\Local\\Temp\\ipykernel_12600\\3452069279.py:13: FutureWarning: The frame.append method is deprecated and will be removed from pandas in a future version. Use pandas.concat instead.\n",
      "  score_data = score_data.append(temp_score_data)\n",
      "C:\\Users\\mrbab\\AppData\\Local\\Temp\\ipykernel_12600\\3452069279.py:13: FutureWarning: The frame.append method is deprecated and will be removed from pandas in a future version. Use pandas.concat instead.\n",
      "  score_data = score_data.append(temp_score_data)\n",
      "C:\\Users\\mrbab\\AppData\\Local\\Temp\\ipykernel_12600\\3452069279.py:13: FutureWarning: The frame.append method is deprecated and will be removed from pandas in a future version. Use pandas.concat instead.\n",
      "  score_data = score_data.append(temp_score_data)\n",
      "C:\\Users\\mrbab\\AppData\\Local\\Temp\\ipykernel_12600\\3452069279.py:13: FutureWarning: The frame.append method is deprecated and will be removed from pandas in a future version. Use pandas.concat instead.\n",
      "  score_data = score_data.append(temp_score_data)\n",
      "C:\\Users\\mrbab\\AppData\\Local\\Temp\\ipykernel_12600\\3452069279.py:13: FutureWarning: The frame.append method is deprecated and will be removed from pandas in a future version. Use pandas.concat instead.\n",
      "  score_data = score_data.append(temp_score_data)\n",
      "C:\\Users\\mrbab\\AppData\\Local\\Temp\\ipykernel_12600\\3452069279.py:13: FutureWarning: The frame.append method is deprecated and will be removed from pandas in a future version. Use pandas.concat instead.\n",
      "  score_data = score_data.append(temp_score_data)\n",
      "C:\\Users\\mrbab\\AppData\\Local\\Temp\\ipykernel_12600\\3452069279.py:13: FutureWarning: The frame.append method is deprecated and will be removed from pandas in a future version. Use pandas.concat instead.\n",
      "  score_data = score_data.append(temp_score_data)\n",
      "C:\\Users\\mrbab\\AppData\\Local\\Temp\\ipykernel_12600\\3452069279.py:13: FutureWarning: The frame.append method is deprecated and will be removed from pandas in a future version. Use pandas.concat instead.\n",
      "  score_data = score_data.append(temp_score_data)\n",
      "C:\\Users\\mrbab\\AppData\\Local\\Temp\\ipykernel_12600\\3452069279.py:13: FutureWarning: The frame.append method is deprecated and will be removed from pandas in a future version. Use pandas.concat instead.\n",
      "  score_data = score_data.append(temp_score_data)\n",
      "C:\\Users\\mrbab\\AppData\\Local\\Temp\\ipykernel_12600\\3452069279.py:13: FutureWarning: The frame.append method is deprecated and will be removed from pandas in a future version. Use pandas.concat instead.\n",
      "  score_data = score_data.append(temp_score_data)\n",
      "C:\\Users\\mrbab\\AppData\\Local\\Temp\\ipykernel_12600\\3452069279.py:13: FutureWarning: The frame.append method is deprecated and will be removed from pandas in a future version. Use pandas.concat instead.\n",
      "  score_data = score_data.append(temp_score_data)\n",
      "C:\\Users\\mrbab\\AppData\\Local\\Temp\\ipykernel_12600\\3452069279.py:13: FutureWarning: The frame.append method is deprecated and will be removed from pandas in a future version. Use pandas.concat instead.\n",
      "  score_data = score_data.append(temp_score_data)\n",
      "C:\\Users\\mrbab\\AppData\\Local\\Temp\\ipykernel_12600\\3452069279.py:13: FutureWarning: The frame.append method is deprecated and will be removed from pandas in a future version. Use pandas.concat instead.\n",
      "  score_data = score_data.append(temp_score_data)\n",
      "C:\\Users\\mrbab\\AppData\\Local\\Temp\\ipykernel_12600\\3452069279.py:13: FutureWarning: The frame.append method is deprecated and will be removed from pandas in a future version. Use pandas.concat instead.\n",
      "  score_data = score_data.append(temp_score_data)\n",
      "C:\\Users\\mrbab\\AppData\\Local\\Temp\\ipykernel_12600\\3452069279.py:13: FutureWarning: The frame.append method is deprecated and will be removed from pandas in a future version. Use pandas.concat instead.\n",
      "  score_data = score_data.append(temp_score_data)\n",
      "C:\\Users\\mrbab\\AppData\\Local\\Temp\\ipykernel_12600\\3452069279.py:13: FutureWarning: The frame.append method is deprecated and will be removed from pandas in a future version. Use pandas.concat instead.\n",
      "  score_data = score_data.append(temp_score_data)\n",
      "C:\\Users\\mrbab\\AppData\\Local\\Temp\\ipykernel_12600\\3452069279.py:13: FutureWarning: The frame.append method is deprecated and will be removed from pandas in a future version. Use pandas.concat instead.\n",
      "  score_data = score_data.append(temp_score_data)\n",
      "C:\\Users\\mrbab\\AppData\\Local\\Temp\\ipykernel_12600\\3452069279.py:13: FutureWarning: The frame.append method is deprecated and will be removed from pandas in a future version. Use pandas.concat instead.\n",
      "  score_data = score_data.append(temp_score_data)\n",
      "C:\\Users\\mrbab\\AppData\\Local\\Temp\\ipykernel_12600\\3452069279.py:13: FutureWarning: The frame.append method is deprecated and will be removed from pandas in a future version. Use pandas.concat instead.\n",
      "  score_data = score_data.append(temp_score_data)\n",
      "C:\\Users\\mrbab\\AppData\\Local\\Temp\\ipykernel_12600\\3452069279.py:13: FutureWarning: The frame.append method is deprecated and will be removed from pandas in a future version. Use pandas.concat instead.\n",
      "  score_data = score_data.append(temp_score_data)\n",
      "C:\\Users\\mrbab\\AppData\\Local\\Temp\\ipykernel_12600\\3452069279.py:13: FutureWarning: The frame.append method is deprecated and will be removed from pandas in a future version. Use pandas.concat instead.\n",
      "  score_data = score_data.append(temp_score_data)\n",
      "C:\\Users\\mrbab\\AppData\\Local\\Temp\\ipykernel_12600\\3452069279.py:13: FutureWarning: The frame.append method is deprecated and will be removed from pandas in a future version. Use pandas.concat instead.\n",
      "  score_data = score_data.append(temp_score_data)\n",
      "C:\\Users\\mrbab\\AppData\\Local\\Temp\\ipykernel_12600\\3452069279.py:13: FutureWarning: The frame.append method is deprecated and will be removed from pandas in a future version. Use pandas.concat instead.\n",
      "  score_data = score_data.append(temp_score_data)\n",
      "C:\\Users\\mrbab\\AppData\\Local\\Temp\\ipykernel_12600\\3452069279.py:13: FutureWarning: The frame.append method is deprecated and will be removed from pandas in a future version. Use pandas.concat instead.\n",
      "  score_data = score_data.append(temp_score_data)\n",
      "C:\\Users\\mrbab\\AppData\\Local\\Temp\\ipykernel_12600\\3452069279.py:13: FutureWarning: The frame.append method is deprecated and will be removed from pandas in a future version. Use pandas.concat instead.\n",
      "  score_data = score_data.append(temp_score_data)\n",
      "C:\\Users\\mrbab\\AppData\\Local\\Temp\\ipykernel_12600\\3452069279.py:13: FutureWarning: The frame.append method is deprecated and will be removed from pandas in a future version. Use pandas.concat instead.\n",
      "  score_data = score_data.append(temp_score_data)\n",
      "C:\\Users\\mrbab\\AppData\\Local\\Temp\\ipykernel_12600\\3452069279.py:13: FutureWarning: The frame.append method is deprecated and will be removed from pandas in a future version. Use pandas.concat instead.\n",
      "  score_data = score_data.append(temp_score_data)\n",
      "C:\\Users\\mrbab\\AppData\\Local\\Temp\\ipykernel_12600\\3452069279.py:13: FutureWarning: The frame.append method is deprecated and will be removed from pandas in a future version. Use pandas.concat instead.\n",
      "  score_data = score_data.append(temp_score_data)\n",
      "C:\\Users\\mrbab\\AppData\\Local\\Temp\\ipykernel_12600\\3452069279.py:13: FutureWarning: The frame.append method is deprecated and will be removed from pandas in a future version. Use pandas.concat instead.\n",
      "  score_data = score_data.append(temp_score_data)\n",
      "C:\\Users\\mrbab\\AppData\\Local\\Temp\\ipykernel_12600\\3452069279.py:13: FutureWarning: The frame.append method is deprecated and will be removed from pandas in a future version. Use pandas.concat instead.\n",
      "  score_data = score_data.append(temp_score_data)\n",
      "C:\\Users\\mrbab\\AppData\\Local\\Temp\\ipykernel_12600\\3452069279.py:13: FutureWarning: The frame.append method is deprecated and will be removed from pandas in a future version. Use pandas.concat instead.\n",
      "  score_data = score_data.append(temp_score_data)\n",
      "C:\\Users\\mrbab\\AppData\\Local\\Temp\\ipykernel_12600\\3452069279.py:13: FutureWarning: The frame.append method is deprecated and will be removed from pandas in a future version. Use pandas.concat instead.\n",
      "  score_data = score_data.append(temp_score_data)\n",
      "C:\\Users\\mrbab\\AppData\\Local\\Temp\\ipykernel_12600\\3452069279.py:13: FutureWarning: The frame.append method is deprecated and will be removed from pandas in a future version. Use pandas.concat instead.\n",
      "  score_data = score_data.append(temp_score_data)\n",
      "C:\\Users\\mrbab\\AppData\\Local\\Temp\\ipykernel_12600\\3452069279.py:13: FutureWarning: The frame.append method is deprecated and will be removed from pandas in a future version. Use pandas.concat instead.\n",
      "  score_data = score_data.append(temp_score_data)\n",
      "C:\\Users\\mrbab\\AppData\\Local\\Temp\\ipykernel_12600\\3452069279.py:13: FutureWarning: The frame.append method is deprecated and will be removed from pandas in a future version. Use pandas.concat instead.\n",
      "  score_data = score_data.append(temp_score_data)\n",
      "C:\\Users\\mrbab\\AppData\\Local\\Temp\\ipykernel_12600\\3452069279.py:13: FutureWarning: The frame.append method is deprecated and will be removed from pandas in a future version. Use pandas.concat instead.\n",
      "  score_data = score_data.append(temp_score_data)\n",
      "C:\\Users\\mrbab\\AppData\\Local\\Temp\\ipykernel_12600\\3452069279.py:13: FutureWarning: The frame.append method is deprecated and will be removed from pandas in a future version. Use pandas.concat instead.\n",
      "  score_data = score_data.append(temp_score_data)\n"
     ]
    }
   ],
   "source": [
    "for max_depth in depth_level:\n",
    "    clf = DecisionTreeClassifier(criterion='entropy', max_depth=max_depth)\n",
    "    clf.fit(X_train, y_train)\n",
    "    train_score = clf.score(X_train, y_train)\n",
    "    test_score = clf.score(X_test, y_test)\n",
    "\n",
    "    mean_cross_val_score = cross_val_score(clf, X_train, y_train, cv=5).mean()\n",
    "\n",
    "    temp_score_data = pd.DataFrame({'max_depth': [max_depth],\n",
    "                                    'train_score': [train_score],\n",
    "                                    'test_score': [test_score],\n",
    "                                    'cross_val_score': [mean_cross_val_score]})\n",
    "    score_data = score_data.append(temp_score_data)"
   ],
   "metadata": {
    "collapsed": false,
    "ExecuteTime": {
     "start_time": "2023-04-29T16:09:31.945698Z",
     "end_time": "2023-04-29T16:09:33.082706Z"
    }
   }
  },
  {
   "cell_type": "code",
   "execution_count": 36,
   "outputs": [
    {
     "data": {
      "text/plain": "   max_depth  train_score  test_score  cross_val_score\n0          1     0.705394    0.680672         0.705442\n0          2     1.000000    1.000000         1.000000\n0          3     1.000000    1.000000         1.000000\n0          4     1.000000    1.000000         1.000000\n0          5     1.000000    1.000000         1.000000\n0          6     1.000000    1.000000         1.000000\n0          7     1.000000    1.000000         1.000000\n0          8     1.000000    1.000000         1.000000\n0          9     1.000000    1.000000         1.000000\n0         10     1.000000    1.000000         1.000000",
      "text/html": "<div>\n<style scoped>\n    .dataframe tbody tr th:only-of-type {\n        vertical-align: middle;\n    }\n\n    .dataframe tbody tr th {\n        vertical-align: top;\n    }\n\n    .dataframe thead th {\n        text-align: right;\n    }\n</style>\n<table border=\"1\" class=\"dataframe\">\n  <thead>\n    <tr style=\"text-align: right;\">\n      <th></th>\n      <th>max_depth</th>\n      <th>train_score</th>\n      <th>test_score</th>\n      <th>cross_val_score</th>\n    </tr>\n  </thead>\n  <tbody>\n    <tr>\n      <th>0</th>\n      <td>1</td>\n      <td>0.705394</td>\n      <td>0.680672</td>\n      <td>0.705442</td>\n    </tr>\n    <tr>\n      <th>0</th>\n      <td>2</td>\n      <td>1.000000</td>\n      <td>1.000000</td>\n      <td>1.000000</td>\n    </tr>\n    <tr>\n      <th>0</th>\n      <td>3</td>\n      <td>1.000000</td>\n      <td>1.000000</td>\n      <td>1.000000</td>\n    </tr>\n    <tr>\n      <th>0</th>\n      <td>4</td>\n      <td>1.000000</td>\n      <td>1.000000</td>\n      <td>1.000000</td>\n    </tr>\n    <tr>\n      <th>0</th>\n      <td>5</td>\n      <td>1.000000</td>\n      <td>1.000000</td>\n      <td>1.000000</td>\n    </tr>\n    <tr>\n      <th>0</th>\n      <td>6</td>\n      <td>1.000000</td>\n      <td>1.000000</td>\n      <td>1.000000</td>\n    </tr>\n    <tr>\n      <th>0</th>\n      <td>7</td>\n      <td>1.000000</td>\n      <td>1.000000</td>\n      <td>1.000000</td>\n    </tr>\n    <tr>\n      <th>0</th>\n      <td>8</td>\n      <td>1.000000</td>\n      <td>1.000000</td>\n      <td>1.000000</td>\n    </tr>\n    <tr>\n      <th>0</th>\n      <td>9</td>\n      <td>1.000000</td>\n      <td>1.000000</td>\n      <td>1.000000</td>\n    </tr>\n    <tr>\n      <th>0</th>\n      <td>10</td>\n      <td>1.000000</td>\n      <td>1.000000</td>\n      <td>1.000000</td>\n    </tr>\n  </tbody>\n</table>\n</div>"
     },
     "execution_count": 36,
     "metadata": {},
     "output_type": "execute_result"
    }
   ],
   "source": [
    "score_data.head(10)"
   ],
   "metadata": {
    "collapsed": false,
    "ExecuteTime": {
     "start_time": "2023-04-29T16:09:33.935050Z",
     "end_time": "2023-04-29T16:09:33.972371Z"
    }
   }
  },
  {
   "cell_type": "code",
   "execution_count": 40,
   "outputs": [],
   "source": [
    "clf = DecisionTreeClassifier(criterion='entropy', max_depth=2)"
   ],
   "metadata": {
    "collapsed": false,
    "ExecuteTime": {
     "start_time": "2023-04-29T16:15:31.108676Z",
     "end_time": "2023-04-29T16:15:31.144651Z"
    }
   }
  },
  {
   "cell_type": "code",
   "execution_count": 43,
   "outputs": [
    {
     "data": {
      "text/plain": "DecisionTreeClassifier(criterion='entropy', max_depth=2)",
      "text/html": "<style>#sk-container-id-1 {color: black;background-color: white;}#sk-container-id-1 pre{padding: 0;}#sk-container-id-1 div.sk-toggleable {background-color: white;}#sk-container-id-1 label.sk-toggleable__label {cursor: pointer;display: block;width: 100%;margin-bottom: 0;padding: 0.3em;box-sizing: border-box;text-align: center;}#sk-container-id-1 label.sk-toggleable__label-arrow:before {content: \"▸\";float: left;margin-right: 0.25em;color: #696969;}#sk-container-id-1 label.sk-toggleable__label-arrow:hover:before {color: black;}#sk-container-id-1 div.sk-estimator:hover label.sk-toggleable__label-arrow:before {color: black;}#sk-container-id-1 div.sk-toggleable__content {max-height: 0;max-width: 0;overflow: hidden;text-align: left;background-color: #f0f8ff;}#sk-container-id-1 div.sk-toggleable__content pre {margin: 0.2em;color: black;border-radius: 0.25em;background-color: #f0f8ff;}#sk-container-id-1 input.sk-toggleable__control:checked~div.sk-toggleable__content {max-height: 200px;max-width: 100%;overflow: auto;}#sk-container-id-1 input.sk-toggleable__control:checked~label.sk-toggleable__label-arrow:before {content: \"▾\";}#sk-container-id-1 div.sk-estimator input.sk-toggleable__control:checked~label.sk-toggleable__label {background-color: #d4ebff;}#sk-container-id-1 div.sk-label input.sk-toggleable__control:checked~label.sk-toggleable__label {background-color: #d4ebff;}#sk-container-id-1 input.sk-hidden--visually {border: 0;clip: rect(1px 1px 1px 1px);clip: rect(1px, 1px, 1px, 1px);height: 1px;margin: -1px;overflow: hidden;padding: 0;position: absolute;width: 1px;}#sk-container-id-1 div.sk-estimator {font-family: monospace;background-color: #f0f8ff;border: 1px dotted black;border-radius: 0.25em;box-sizing: border-box;margin-bottom: 0.5em;}#sk-container-id-1 div.sk-estimator:hover {background-color: #d4ebff;}#sk-container-id-1 div.sk-parallel-item::after {content: \"\";width: 100%;border-bottom: 1px solid gray;flex-grow: 1;}#sk-container-id-1 div.sk-label:hover label.sk-toggleable__label {background-color: #d4ebff;}#sk-container-id-1 div.sk-serial::before {content: \"\";position: absolute;border-left: 1px solid gray;box-sizing: border-box;top: 0;bottom: 0;left: 50%;z-index: 0;}#sk-container-id-1 div.sk-serial {display: flex;flex-direction: column;align-items: center;background-color: white;padding-right: 0.2em;padding-left: 0.2em;position: relative;}#sk-container-id-1 div.sk-item {position: relative;z-index: 1;}#sk-container-id-1 div.sk-parallel {display: flex;align-items: stretch;justify-content: center;background-color: white;position: relative;}#sk-container-id-1 div.sk-item::before, #sk-container-id-1 div.sk-parallel-item::before {content: \"\";position: absolute;border-left: 1px solid gray;box-sizing: border-box;top: 0;bottom: 0;left: 50%;z-index: -1;}#sk-container-id-1 div.sk-parallel-item {display: flex;flex-direction: column;z-index: 1;position: relative;background-color: white;}#sk-container-id-1 div.sk-parallel-item:first-child::after {align-self: flex-end;width: 50%;}#sk-container-id-1 div.sk-parallel-item:last-child::after {align-self: flex-start;width: 50%;}#sk-container-id-1 div.sk-parallel-item:only-child::after {width: 0;}#sk-container-id-1 div.sk-dashed-wrapped {border: 1px dashed gray;margin: 0 0.4em 0.5em 0.4em;box-sizing: border-box;padding-bottom: 0.4em;background-color: white;}#sk-container-id-1 div.sk-label label {font-family: monospace;font-weight: bold;display: inline-block;line-height: 1.2em;}#sk-container-id-1 div.sk-label-container {text-align: center;}#sk-container-id-1 div.sk-container {/* jupyter's `normalize.less` sets `[hidden] { display: none; }` but bootstrap.min.css set `[hidden] { display: none !important; }` so we also need the `!important` here to be able to override the default hidden behavior on the sphinx rendered scikit-learn.org. See: https://github.com/scikit-learn/scikit-learn/issues/21755 */display: inline-block !important;position: relative;}#sk-container-id-1 div.sk-text-repr-fallback {display: none;}</style><div id=\"sk-container-id-1\" class=\"sk-top-container\"><div class=\"sk-text-repr-fallback\"><pre>DecisionTreeClassifier(criterion=&#x27;entropy&#x27;, max_depth=2)</pre><b>In a Jupyter environment, please rerun this cell to show the HTML representation or trust the notebook. <br />On GitHub, the HTML representation is unable to render, please try loading this page with nbviewer.org.</b></div><div class=\"sk-container\" hidden><div class=\"sk-item\"><div class=\"sk-estimator sk-toggleable\"><input class=\"sk-toggleable__control sk-hidden--visually\" id=\"sk-estimator-id-1\" type=\"checkbox\" checked><label for=\"sk-estimator-id-1\" class=\"sk-toggleable__label sk-toggleable__label-arrow\">DecisionTreeClassifier</label><div class=\"sk-toggleable__content\"><pre>DecisionTreeClassifier(criterion=&#x27;entropy&#x27;, max_depth=2)</pre></div></div></div></div></div>"
     },
     "execution_count": 43,
     "metadata": {},
     "output_type": "execute_result"
    }
   ],
   "source": [
    "clf.fit(X_test,y_test)"
   ],
   "metadata": {
    "collapsed": false,
    "ExecuteTime": {
     "start_time": "2023-04-29T16:17:46.267578Z",
     "end_time": "2023-04-29T16:17:46.334360Z"
    }
   }
  },
  {
   "cell_type": "code",
   "execution_count": 44,
   "outputs": [],
   "source": [],
   "metadata": {
    "collapsed": false,
    "ExecuteTime": {
     "start_time": "2023-04-29T16:17:47.111352Z",
     "end_time": "2023-04-29T16:17:47.167346Z"
    }
   }
  },
  {
   "cell_type": "code",
   "execution_count": 45,
   "outputs": [
    {
     "name": "stdout",
     "output_type": "stream",
     "text": [
      "1.0\n"
     ]
    }
   ],
   "source": [],
   "metadata": {
    "collapsed": false,
    "ExecuteTime": {
     "start_time": "2023-04-29T16:17:47.780621Z",
     "end_time": "2023-04-29T16:17:47.816105Z"
    }
   }
  },
  {
   "cell_type": "code",
   "execution_count": 46,
   "outputs": [],
   "source": [
    "predictions = clf.predict(X_test)"
   ],
   "metadata": {
    "collapsed": false,
    "ExecuteTime": {
     "start_time": "2023-04-29T16:21:52.662975Z",
     "end_time": "2023-04-29T16:21:52.718719Z"
    }
   }
  },
  {
   "cell_type": "code",
   "execution_count": 47,
   "outputs": [
    {
     "data": {
      "text/plain": "array(['abba', 'blind-guardian', 'gangstarr', 'blind-guardian', 'abba',\n       'blind-guardian', 'blind-guardian', 'abba', 'abba', 'gangstarr',\n       'gangstarr', 'abba', 'blind-guardian', 'abba', 'gangstarr', 'abba',\n       'abba', 'abba', 'blind-guardian', 'blind-guardian',\n       'blind-guardian', 'blind-guardian', 'gangstarr', 'blind-guardian',\n       'blind-guardian', 'abba', 'blind-guardian', 'abba',\n       'blind-guardian', 'gangstarr', 'abba', 'gangstarr',\n       'blind-guardian', 'gangstarr', 'gangstarr', 'abba',\n       'blind-guardian', 'blind-guardian', 'gangstarr', 'abba', 'abba',\n       'abba', 'blind-guardian', 'abba', 'blind-guardian',\n       'blind-guardian', 'gangstarr', 'gangstarr', 'gangstarr',\n       'blind-guardian', 'blind-guardian', 'blind-guardian', 'abba',\n       'gangstarr', 'abba', 'gangstarr', 'gangstarr', 'gangstarr', 'abba',\n       'abba', 'abba', 'abba', 'abba', 'abba', 'blind-guardian',\n       'gangstarr', 'gangstarr', 'gangstarr', 'abba', 'gangstarr',\n       'blind-guardian', 'blind-guardian', 'abba', 'abba', 'gangstarr',\n       'blind-guardian', 'abba', 'abba', 'blind-guardian', 'gangstarr',\n       'gangstarr', 'gangstarr', 'gangstarr', 'abba', 'abba', 'abba',\n       'blind-guardian', 'abba', 'gangstarr', 'blind-guardian', 'abba',\n       'blind-guardian', 'abba', 'abba', 'gangstarr', 'gangstarr',\n       'gangstarr', 'gangstarr', 'abba', 'blind-guardian',\n       'blind-guardian', 'abba', 'abba', 'abba', 'gangstarr', 'gangstarr',\n       'gangstarr', 'abba', 'blind-guardian', 'blind-guardian',\n       'blind-guardian', 'abba', 'blind-guardian', 'abba', 'gangstarr',\n       'blind-guardian', 'abba', 'blind-guardian', 'gangstarr'],\n      dtype=object)"
     },
     "execution_count": 47,
     "metadata": {},
     "output_type": "execute_result"
    }
   ],
   "source": [
    "predictions"
   ],
   "metadata": {
    "collapsed": false,
    "ExecuteTime": {
     "start_time": "2023-04-29T16:21:58.090905Z",
     "end_time": "2023-04-29T16:21:58.125904Z"
    }
   }
  },
  {
   "cell_type": "code",
   "execution_count": 48,
   "outputs": [],
   "source": [],
   "metadata": {
    "collapsed": false,
    "ExecuteTime": {
     "start_time": "2023-04-29T16:23:18.796301Z",
     "end_time": "2023-04-29T16:23:18.830377Z"
    }
   }
  },
  {
   "cell_type": "code",
   "execution_count": 49,
   "outputs": [
    {
     "data": {
      "text/plain": "1.0"
     },
     "execution_count": 49,
     "metadata": {},
     "output_type": "execute_result"
    }
   ],
   "source": [
    "precision"
   ],
   "metadata": {
    "collapsed": false,
    "ExecuteTime": {
     "start_time": "2023-04-29T16:23:23.407742Z",
     "end_time": "2023-04-29T16:23:23.428769Z"
    }
   }
  },
  {
   "cell_type": "code",
   "execution_count": null,
   "outputs": [],
   "source": [],
   "metadata": {
    "collapsed": false
   }
  }
 ],
 "metadata": {
  "kernelspec": {
   "display_name": "Python 3",
   "language": "python",
   "name": "python3"
  },
  "language_info": {
   "codemirror_mode": {
    "name": "ipython",
    "version": 2
   },
   "file_extension": ".py",
   "mimetype": "text/x-python",
   "name": "python",
   "nbconvert_exporter": "python",
   "pygments_lexer": "ipython2",
   "version": "2.7.6"
  }
 },
 "nbformat": 4,
 "nbformat_minor": 0
}
