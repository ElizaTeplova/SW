{
 "cells": [
  {
   "cell_type": "code",
   "execution_count": 1,
   "metadata": {
    "collapsed": true,
    "ExecuteTime": {
     "start_time": "2023-04-24T21:56:03.861524Z",
     "end_time": "2023-04-24T21:56:04.429524Z"
    }
   },
   "outputs": [],
   "source": [
    "from sklearn import tree\n",
    "from sklearn.model_selection import cross_val_score\n",
    "from sklearn.model_selection import train_test_split\n",
    "import matplotlib.pyplot as plt\n",
    "import pandas as pd\n",
    "import numpy as np\n",
    "import seaborn as sns\n",
    "%matplotlib inline"
   ]
  },
  {
   "cell_type": "code",
   "execution_count": 2,
   "outputs": [],
   "source": [
    "from IPython.display import SVG\n",
    "from graphviz import Source\n",
    "from IPython.display import display"
   ],
   "metadata": {
    "collapsed": false,
    "ExecuteTime": {
     "start_time": "2023-04-24T21:56:04.430525Z",
     "end_time": "2023-04-24T21:56:04.499527Z"
    }
   }
  },
  {
   "cell_type": "code",
   "execution_count": 3,
   "outputs": [
    {
     "data": {
      "text/plain": "<IPython.core.display.HTML object>",
      "text/html": "<style>svg{width: 70 !important; height: 70% !important}</style>"
     },
     "execution_count": 3,
     "metadata": {},
     "output_type": "execute_result"
    }
   ],
   "source": [
    "from IPython.display import HTML\n",
    "\n",
    "style = \"<style>svg{width: 70 !important; height: 70% !important}</style>\"\n",
    "HTML(style)"
   ],
   "metadata": {
    "collapsed": false,
    "ExecuteTime": {
     "start_time": "2023-04-24T21:56:04.495538Z",
     "end_time": "2023-04-24T21:56:04.514522Z"
    }
   }
  },
  {
   "cell_type": "code",
   "execution_count": 4,
   "outputs": [],
   "source": [
    "train_animals = pd.read_csv('dogs_n_cats.csv')"
   ],
   "metadata": {
    "collapsed": false,
    "ExecuteTime": {
     "start_time": "2023-04-24T21:56:04.511525Z",
     "end_time": "2023-04-24T21:56:04.552528Z"
    }
   }
  },
  {
   "cell_type": "code",
   "execution_count": 5,
   "outputs": [
    {
     "data": {
      "text/plain": "   Длина  Высота  Шерстист  Гавкает  Лазает по деревьям      Вид\n0     15    18.0         1        1                   0  собачка\n1     20    24.0         1        0                   0  собачка\n2     34    40.8         1        1                   0  собачка\n3     26    31.2         1        1                   0  собачка\n4     16    19.2         1        1                   0  собачка",
      "text/html": "<div>\n<style scoped>\n    .dataframe tbody tr th:only-of-type {\n        vertical-align: middle;\n    }\n\n    .dataframe tbody tr th {\n        vertical-align: top;\n    }\n\n    .dataframe thead th {\n        text-align: right;\n    }\n</style>\n<table border=\"1\" class=\"dataframe\">\n  <thead>\n    <tr style=\"text-align: right;\">\n      <th></th>\n      <th>Длина</th>\n      <th>Высота</th>\n      <th>Шерстист</th>\n      <th>Гавкает</th>\n      <th>Лазает по деревьям</th>\n      <th>Вид</th>\n    </tr>\n  </thead>\n  <tbody>\n    <tr>\n      <th>0</th>\n      <td>15</td>\n      <td>18.0</td>\n      <td>1</td>\n      <td>1</td>\n      <td>0</td>\n      <td>собачка</td>\n    </tr>\n    <tr>\n      <th>1</th>\n      <td>20</td>\n      <td>24.0</td>\n      <td>1</td>\n      <td>0</td>\n      <td>0</td>\n      <td>собачка</td>\n    </tr>\n    <tr>\n      <th>2</th>\n      <td>34</td>\n      <td>40.8</td>\n      <td>1</td>\n      <td>1</td>\n      <td>0</td>\n      <td>собачка</td>\n    </tr>\n    <tr>\n      <th>3</th>\n      <td>26</td>\n      <td>31.2</td>\n      <td>1</td>\n      <td>1</td>\n      <td>0</td>\n      <td>собачка</td>\n    </tr>\n    <tr>\n      <th>4</th>\n      <td>16</td>\n      <td>19.2</td>\n      <td>1</td>\n      <td>1</td>\n      <td>0</td>\n      <td>собачка</td>\n    </tr>\n  </tbody>\n</table>\n</div>"
     },
     "execution_count": 5,
     "metadata": {},
     "output_type": "execute_result"
    }
   ],
   "source": [
    "train_animals.head()"
   ],
   "metadata": {
    "collapsed": false,
    "ExecuteTime": {
     "start_time": "2023-04-24T21:56:04.541528Z",
     "end_time": "2023-04-24T21:56:04.576523Z"
    }
   }
  },
  {
   "cell_type": "code",
   "execution_count": 6,
   "outputs": [],
   "source": [
    "train_animals = train_animals.rename(columns={'Длина': 'length',\n",
    "                                              'Высота' : 'height',\n",
    "                                              'Шерстист': 'woolly',\n",
    "                                              'Гавкает' : 'bark',\n",
    "                                              'Лазает по деревьям' : 'climb',\n",
    "                                              'Вид' : 'species'})"
   ],
   "metadata": {
    "collapsed": false,
    "ExecuteTime": {
     "start_time": "2023-04-24T21:56:04.571525Z",
     "end_time": "2023-04-24T21:56:04.657526Z"
    }
   }
  },
  {
   "cell_type": "code",
   "execution_count": 7,
   "outputs": [
    {
     "data": {
      "text/plain": "   length  height  woolly  bark  climb  species\n0      15    18.0       1     1      0  собачка\n1      20    24.0       1     0      0  собачка\n2      34    40.8       1     1      0  собачка\n3      26    31.2       1     1      0  собачка\n4      16    19.2       1     1      0  собачка",
      "text/html": "<div>\n<style scoped>\n    .dataframe tbody tr th:only-of-type {\n        vertical-align: middle;\n    }\n\n    .dataframe tbody tr th {\n        vertical-align: top;\n    }\n\n    .dataframe thead th {\n        text-align: right;\n    }\n</style>\n<table border=\"1\" class=\"dataframe\">\n  <thead>\n    <tr style=\"text-align: right;\">\n      <th></th>\n      <th>length</th>\n      <th>height</th>\n      <th>woolly</th>\n      <th>bark</th>\n      <th>climb</th>\n      <th>species</th>\n    </tr>\n  </thead>\n  <tbody>\n    <tr>\n      <th>0</th>\n      <td>15</td>\n      <td>18.0</td>\n      <td>1</td>\n      <td>1</td>\n      <td>0</td>\n      <td>собачка</td>\n    </tr>\n    <tr>\n      <th>1</th>\n      <td>20</td>\n      <td>24.0</td>\n      <td>1</td>\n      <td>0</td>\n      <td>0</td>\n      <td>собачка</td>\n    </tr>\n    <tr>\n      <th>2</th>\n      <td>34</td>\n      <td>40.8</td>\n      <td>1</td>\n      <td>1</td>\n      <td>0</td>\n      <td>собачка</td>\n    </tr>\n    <tr>\n      <th>3</th>\n      <td>26</td>\n      <td>31.2</td>\n      <td>1</td>\n      <td>1</td>\n      <td>0</td>\n      <td>собачка</td>\n    </tr>\n    <tr>\n      <th>4</th>\n      <td>16</td>\n      <td>19.2</td>\n      <td>1</td>\n      <td>1</td>\n      <td>0</td>\n      <td>собачка</td>\n    </tr>\n  </tbody>\n</table>\n</div>"
     },
     "execution_count": 7,
     "metadata": {},
     "output_type": "execute_result"
    }
   ],
   "source": [
    "train_animals.head()"
   ],
   "metadata": {
    "collapsed": false,
    "ExecuteTime": {
     "start_time": "2023-04-24T21:56:04.590528Z",
     "end_time": "2023-04-24T21:56:04.659539Z"
    }
   }
  },
  {
   "cell_type": "code",
   "execution_count": 8,
   "outputs": [],
   "source": [
    "X = train_animals.drop(['species'], axis=1)\n",
    "y = train_animals.species"
   ],
   "metadata": {
    "collapsed": false,
    "ExecuteTime": {
     "start_time": "2023-04-24T21:56:04.599523Z",
     "end_time": "2023-04-24T21:56:04.673524Z"
    }
   }
  },
  {
   "cell_type": "code",
   "execution_count": 9,
   "outputs": [],
   "source": [
    "X_train, X_test, y_train, y_test = train_test_split(X, y, test_size=0.33, random_state=0)"
   ],
   "metadata": {
    "collapsed": false,
    "ExecuteTime": {
     "start_time": "2023-04-24T21:56:04.617524Z",
     "end_time": "2023-04-24T21:56:04.777542Z"
    }
   }
  },
  {
   "cell_type": "code",
   "execution_count": 10,
   "outputs": [],
   "source": [
    "depth_lvl = range(1, 100)"
   ],
   "metadata": {
    "collapsed": false,
    "ExecuteTime": {
     "start_time": "2023-04-24T21:56:04.636538Z",
     "end_time": "2023-04-24T21:56:04.814524Z"
    }
   }
  },
  {
   "cell_type": "code",
   "execution_count": 11,
   "outputs": [],
   "source": [
    "score_data = pd.DataFrame()"
   ],
   "metadata": {
    "collapsed": false,
    "ExecuteTime": {
     "start_time": "2023-04-24T21:56:04.649528Z",
     "end_time": "2023-04-24T21:56:04.815525Z"
    }
   }
  },
  {
   "cell_type": "code",
   "execution_count": 12,
   "outputs": [
    {
     "name": "stderr",
     "output_type": "stream",
     "text": [
      "C:\\Users\\mrbab\\AppData\\Local\\Temp\\ipykernel_16548\\3982899815.py:12: FutureWarning: The frame.append method is deprecated and will be removed from pandas in a future version. Use pandas.concat instead.\n",
      "  score_data = score_data.append(temp_score_data)\n",
      "C:\\Users\\mrbab\\AppData\\Local\\Temp\\ipykernel_16548\\3982899815.py:12: FutureWarning: The frame.append method is deprecated and will be removed from pandas in a future version. Use pandas.concat instead.\n",
      "  score_data = score_data.append(temp_score_data)\n",
      "C:\\Users\\mrbab\\AppData\\Local\\Temp\\ipykernel_16548\\3982899815.py:12: FutureWarning: The frame.append method is deprecated and will be removed from pandas in a future version. Use pandas.concat instead.\n",
      "  score_data = score_data.append(temp_score_data)\n",
      "C:\\Users\\mrbab\\AppData\\Local\\Temp\\ipykernel_16548\\3982899815.py:12: FutureWarning: The frame.append method is deprecated and will be removed from pandas in a future version. Use pandas.concat instead.\n",
      "  score_data = score_data.append(temp_score_data)\n",
      "C:\\Users\\mrbab\\AppData\\Local\\Temp\\ipykernel_16548\\3982899815.py:12: FutureWarning: The frame.append method is deprecated and will be removed from pandas in a future version. Use pandas.concat instead.\n",
      "  score_data = score_data.append(temp_score_data)\n",
      "C:\\Users\\mrbab\\AppData\\Local\\Temp\\ipykernel_16548\\3982899815.py:12: FutureWarning: The frame.append method is deprecated and will be removed from pandas in a future version. Use pandas.concat instead.\n",
      "  score_data = score_data.append(temp_score_data)\n",
      "C:\\Users\\mrbab\\AppData\\Local\\Temp\\ipykernel_16548\\3982899815.py:12: FutureWarning: The frame.append method is deprecated and will be removed from pandas in a future version. Use pandas.concat instead.\n",
      "  score_data = score_data.append(temp_score_data)\n",
      "C:\\Users\\mrbab\\AppData\\Local\\Temp\\ipykernel_16548\\3982899815.py:12: FutureWarning: The frame.append method is deprecated and will be removed from pandas in a future version. Use pandas.concat instead.\n",
      "  score_data = score_data.append(temp_score_data)\n",
      "C:\\Users\\mrbab\\AppData\\Local\\Temp\\ipykernel_16548\\3982899815.py:12: FutureWarning: The frame.append method is deprecated and will be removed from pandas in a future version. Use pandas.concat instead.\n",
      "  score_data = score_data.append(temp_score_data)\n",
      "C:\\Users\\mrbab\\AppData\\Local\\Temp\\ipykernel_16548\\3982899815.py:12: FutureWarning: The frame.append method is deprecated and will be removed from pandas in a future version. Use pandas.concat instead.\n",
      "  score_data = score_data.append(temp_score_data)\n",
      "C:\\Users\\mrbab\\AppData\\Local\\Temp\\ipykernel_16548\\3982899815.py:12: FutureWarning: The frame.append method is deprecated and will be removed from pandas in a future version. Use pandas.concat instead.\n",
      "  score_data = score_data.append(temp_score_data)\n",
      "C:\\Users\\mrbab\\AppData\\Local\\Temp\\ipykernel_16548\\3982899815.py:12: FutureWarning: The frame.append method is deprecated and will be removed from pandas in a future version. Use pandas.concat instead.\n",
      "  score_data = score_data.append(temp_score_data)\n",
      "C:\\Users\\mrbab\\AppData\\Local\\Temp\\ipykernel_16548\\3982899815.py:12: FutureWarning: The frame.append method is deprecated and will be removed from pandas in a future version. Use pandas.concat instead.\n",
      "  score_data = score_data.append(temp_score_data)\n",
      "C:\\Users\\mrbab\\AppData\\Local\\Temp\\ipykernel_16548\\3982899815.py:12: FutureWarning: The frame.append method is deprecated and will be removed from pandas in a future version. Use pandas.concat instead.\n",
      "  score_data = score_data.append(temp_score_data)\n",
      "C:\\Users\\mrbab\\AppData\\Local\\Temp\\ipykernel_16548\\3982899815.py:12: FutureWarning: The frame.append method is deprecated and will be removed from pandas in a future version. Use pandas.concat instead.\n",
      "  score_data = score_data.append(temp_score_data)\n",
      "C:\\Users\\mrbab\\AppData\\Local\\Temp\\ipykernel_16548\\3982899815.py:12: FutureWarning: The frame.append method is deprecated and will be removed from pandas in a future version. Use pandas.concat instead.\n",
      "  score_data = score_data.append(temp_score_data)\n",
      "C:\\Users\\mrbab\\AppData\\Local\\Temp\\ipykernel_16548\\3982899815.py:12: FutureWarning: The frame.append method is deprecated and will be removed from pandas in a future version. Use pandas.concat instead.\n",
      "  score_data = score_data.append(temp_score_data)\n",
      "C:\\Users\\mrbab\\AppData\\Local\\Temp\\ipykernel_16548\\3982899815.py:12: FutureWarning: The frame.append method is deprecated and will be removed from pandas in a future version. Use pandas.concat instead.\n",
      "  score_data = score_data.append(temp_score_data)\n",
      "C:\\Users\\mrbab\\AppData\\Local\\Temp\\ipykernel_16548\\3982899815.py:12: FutureWarning: The frame.append method is deprecated and will be removed from pandas in a future version. Use pandas.concat instead.\n",
      "  score_data = score_data.append(temp_score_data)\n",
      "C:\\Users\\mrbab\\AppData\\Local\\Temp\\ipykernel_16548\\3982899815.py:12: FutureWarning: The frame.append method is deprecated and will be removed from pandas in a future version. Use pandas.concat instead.\n",
      "  score_data = score_data.append(temp_score_data)\n",
      "C:\\Users\\mrbab\\AppData\\Local\\Temp\\ipykernel_16548\\3982899815.py:12: FutureWarning: The frame.append method is deprecated and will be removed from pandas in a future version. Use pandas.concat instead.\n",
      "  score_data = score_data.append(temp_score_data)\n",
      "C:\\Users\\mrbab\\AppData\\Local\\Temp\\ipykernel_16548\\3982899815.py:12: FutureWarning: The frame.append method is deprecated and will be removed from pandas in a future version. Use pandas.concat instead.\n",
      "  score_data = score_data.append(temp_score_data)\n",
      "C:\\Users\\mrbab\\AppData\\Local\\Temp\\ipykernel_16548\\3982899815.py:12: FutureWarning: The frame.append method is deprecated and will be removed from pandas in a future version. Use pandas.concat instead.\n",
      "  score_data = score_data.append(temp_score_data)\n",
      "C:\\Users\\mrbab\\AppData\\Local\\Temp\\ipykernel_16548\\3982899815.py:12: FutureWarning: The frame.append method is deprecated and will be removed from pandas in a future version. Use pandas.concat instead.\n",
      "  score_data = score_data.append(temp_score_data)\n",
      "C:\\Users\\mrbab\\AppData\\Local\\Temp\\ipykernel_16548\\3982899815.py:12: FutureWarning: The frame.append method is deprecated and will be removed from pandas in a future version. Use pandas.concat instead.\n",
      "  score_data = score_data.append(temp_score_data)\n",
      "C:\\Users\\mrbab\\AppData\\Local\\Temp\\ipykernel_16548\\3982899815.py:12: FutureWarning: The frame.append method is deprecated and will be removed from pandas in a future version. Use pandas.concat instead.\n",
      "  score_data = score_data.append(temp_score_data)\n",
      "C:\\Users\\mrbab\\AppData\\Local\\Temp\\ipykernel_16548\\3982899815.py:12: FutureWarning: The frame.append method is deprecated and will be removed from pandas in a future version. Use pandas.concat instead.\n",
      "  score_data = score_data.append(temp_score_data)\n",
      "C:\\Users\\mrbab\\AppData\\Local\\Temp\\ipykernel_16548\\3982899815.py:12: FutureWarning: The frame.append method is deprecated and will be removed from pandas in a future version. Use pandas.concat instead.\n",
      "  score_data = score_data.append(temp_score_data)\n",
      "C:\\Users\\mrbab\\AppData\\Local\\Temp\\ipykernel_16548\\3982899815.py:12: FutureWarning: The frame.append method is deprecated and will be removed from pandas in a future version. Use pandas.concat instead.\n",
      "  score_data = score_data.append(temp_score_data)\n",
      "C:\\Users\\mrbab\\AppData\\Local\\Temp\\ipykernel_16548\\3982899815.py:12: FutureWarning: The frame.append method is deprecated and will be removed from pandas in a future version. Use pandas.concat instead.\n",
      "  score_data = score_data.append(temp_score_data)\n",
      "C:\\Users\\mrbab\\AppData\\Local\\Temp\\ipykernel_16548\\3982899815.py:12: FutureWarning: The frame.append method is deprecated and will be removed from pandas in a future version. Use pandas.concat instead.\n",
      "  score_data = score_data.append(temp_score_data)\n",
      "C:\\Users\\mrbab\\AppData\\Local\\Temp\\ipykernel_16548\\3982899815.py:12: FutureWarning: The frame.append method is deprecated and will be removed from pandas in a future version. Use pandas.concat instead.\n",
      "  score_data = score_data.append(temp_score_data)\n",
      "C:\\Users\\mrbab\\AppData\\Local\\Temp\\ipykernel_16548\\3982899815.py:12: FutureWarning: The frame.append method is deprecated and will be removed from pandas in a future version. Use pandas.concat instead.\n",
      "  score_data = score_data.append(temp_score_data)\n",
      "C:\\Users\\mrbab\\AppData\\Local\\Temp\\ipykernel_16548\\3982899815.py:12: FutureWarning: The frame.append method is deprecated and will be removed from pandas in a future version. Use pandas.concat instead.\n",
      "  score_data = score_data.append(temp_score_data)\n",
      "C:\\Users\\mrbab\\AppData\\Local\\Temp\\ipykernel_16548\\3982899815.py:12: FutureWarning: The frame.append method is deprecated and will be removed from pandas in a future version. Use pandas.concat instead.\n",
      "  score_data = score_data.append(temp_score_data)\n",
      "C:\\Users\\mrbab\\AppData\\Local\\Temp\\ipykernel_16548\\3982899815.py:12: FutureWarning: The frame.append method is deprecated and will be removed from pandas in a future version. Use pandas.concat instead.\n",
      "  score_data = score_data.append(temp_score_data)\n",
      "C:\\Users\\mrbab\\AppData\\Local\\Temp\\ipykernel_16548\\3982899815.py:12: FutureWarning: The frame.append method is deprecated and will be removed from pandas in a future version. Use pandas.concat instead.\n",
      "  score_data = score_data.append(temp_score_data)\n",
      "C:\\Users\\mrbab\\AppData\\Local\\Temp\\ipykernel_16548\\3982899815.py:12: FutureWarning: The frame.append method is deprecated and will be removed from pandas in a future version. Use pandas.concat instead.\n",
      "  score_data = score_data.append(temp_score_data)\n",
      "C:\\Users\\mrbab\\AppData\\Local\\Temp\\ipykernel_16548\\3982899815.py:12: FutureWarning: The frame.append method is deprecated and will be removed from pandas in a future version. Use pandas.concat instead.\n",
      "  score_data = score_data.append(temp_score_data)\n",
      "C:\\Users\\mrbab\\AppData\\Local\\Temp\\ipykernel_16548\\3982899815.py:12: FutureWarning: The frame.append method is deprecated and will be removed from pandas in a future version. Use pandas.concat instead.\n",
      "  score_data = score_data.append(temp_score_data)\n",
      "C:\\Users\\mrbab\\AppData\\Local\\Temp\\ipykernel_16548\\3982899815.py:12: FutureWarning: The frame.append method is deprecated and will be removed from pandas in a future version. Use pandas.concat instead.\n",
      "  score_data = score_data.append(temp_score_data)\n",
      "C:\\Users\\mrbab\\AppData\\Local\\Temp\\ipykernel_16548\\3982899815.py:12: FutureWarning: The frame.append method is deprecated and will be removed from pandas in a future version. Use pandas.concat instead.\n",
      "  score_data = score_data.append(temp_score_data)\n",
      "C:\\Users\\mrbab\\AppData\\Local\\Temp\\ipykernel_16548\\3982899815.py:12: FutureWarning: The frame.append method is deprecated and will be removed from pandas in a future version. Use pandas.concat instead.\n",
      "  score_data = score_data.append(temp_score_data)\n",
      "C:\\Users\\mrbab\\AppData\\Local\\Temp\\ipykernel_16548\\3982899815.py:12: FutureWarning: The frame.append method is deprecated and will be removed from pandas in a future version. Use pandas.concat instead.\n",
      "  score_data = score_data.append(temp_score_data)\n",
      "C:\\Users\\mrbab\\AppData\\Local\\Temp\\ipykernel_16548\\3982899815.py:12: FutureWarning: The frame.append method is deprecated and will be removed from pandas in a future version. Use pandas.concat instead.\n",
      "  score_data = score_data.append(temp_score_data)\n",
      "C:\\Users\\mrbab\\AppData\\Local\\Temp\\ipykernel_16548\\3982899815.py:12: FutureWarning: The frame.append method is deprecated and will be removed from pandas in a future version. Use pandas.concat instead.\n",
      "  score_data = score_data.append(temp_score_data)\n",
      "C:\\Users\\mrbab\\AppData\\Local\\Temp\\ipykernel_16548\\3982899815.py:12: FutureWarning: The frame.append method is deprecated and will be removed from pandas in a future version. Use pandas.concat instead.\n",
      "  score_data = score_data.append(temp_score_data)\n",
      "C:\\Users\\mrbab\\AppData\\Local\\Temp\\ipykernel_16548\\3982899815.py:12: FutureWarning: The frame.append method is deprecated and will be removed from pandas in a future version. Use pandas.concat instead.\n",
      "  score_data = score_data.append(temp_score_data)\n",
      "C:\\Users\\mrbab\\AppData\\Local\\Temp\\ipykernel_16548\\3982899815.py:12: FutureWarning: The frame.append method is deprecated and will be removed from pandas in a future version. Use pandas.concat instead.\n",
      "  score_data = score_data.append(temp_score_data)\n",
      "C:\\Users\\mrbab\\AppData\\Local\\Temp\\ipykernel_16548\\3982899815.py:12: FutureWarning: The frame.append method is deprecated and will be removed from pandas in a future version. Use pandas.concat instead.\n",
      "  score_data = score_data.append(temp_score_data)\n",
      "C:\\Users\\mrbab\\AppData\\Local\\Temp\\ipykernel_16548\\3982899815.py:12: FutureWarning: The frame.append method is deprecated and will be removed from pandas in a future version. Use pandas.concat instead.\n",
      "  score_data = score_data.append(temp_score_data)\n",
      "C:\\Users\\mrbab\\AppData\\Local\\Temp\\ipykernel_16548\\3982899815.py:12: FutureWarning: The frame.append method is deprecated and will be removed from pandas in a future version. Use pandas.concat instead.\n",
      "  score_data = score_data.append(temp_score_data)\n",
      "C:\\Users\\mrbab\\AppData\\Local\\Temp\\ipykernel_16548\\3982899815.py:12: FutureWarning: The frame.append method is deprecated and will be removed from pandas in a future version. Use pandas.concat instead.\n",
      "  score_data = score_data.append(temp_score_data)\n",
      "C:\\Users\\mrbab\\AppData\\Local\\Temp\\ipykernel_16548\\3982899815.py:12: FutureWarning: The frame.append method is deprecated and will be removed from pandas in a future version. Use pandas.concat instead.\n",
      "  score_data = score_data.append(temp_score_data)\n",
      "C:\\Users\\mrbab\\AppData\\Local\\Temp\\ipykernel_16548\\3982899815.py:12: FutureWarning: The frame.append method is deprecated and will be removed from pandas in a future version. Use pandas.concat instead.\n",
      "  score_data = score_data.append(temp_score_data)\n",
      "C:\\Users\\mrbab\\AppData\\Local\\Temp\\ipykernel_16548\\3982899815.py:12: FutureWarning: The frame.append method is deprecated and will be removed from pandas in a future version. Use pandas.concat instead.\n",
      "  score_data = score_data.append(temp_score_data)\n",
      "C:\\Users\\mrbab\\AppData\\Local\\Temp\\ipykernel_16548\\3982899815.py:12: FutureWarning: The frame.append method is deprecated and will be removed from pandas in a future version. Use pandas.concat instead.\n",
      "  score_data = score_data.append(temp_score_data)\n",
      "C:\\Users\\mrbab\\AppData\\Local\\Temp\\ipykernel_16548\\3982899815.py:12: FutureWarning: The frame.append method is deprecated and will be removed from pandas in a future version. Use pandas.concat instead.\n",
      "  score_data = score_data.append(temp_score_data)\n",
      "C:\\Users\\mrbab\\AppData\\Local\\Temp\\ipykernel_16548\\3982899815.py:12: FutureWarning: The frame.append method is deprecated and will be removed from pandas in a future version. Use pandas.concat instead.\n",
      "  score_data = score_data.append(temp_score_data)\n",
      "C:\\Users\\mrbab\\AppData\\Local\\Temp\\ipykernel_16548\\3982899815.py:12: FutureWarning: The frame.append method is deprecated and will be removed from pandas in a future version. Use pandas.concat instead.\n",
      "  score_data = score_data.append(temp_score_data)\n",
      "C:\\Users\\mrbab\\AppData\\Local\\Temp\\ipykernel_16548\\3982899815.py:12: FutureWarning: The frame.append method is deprecated and will be removed from pandas in a future version. Use pandas.concat instead.\n",
      "  score_data = score_data.append(temp_score_data)\n",
      "C:\\Users\\mrbab\\AppData\\Local\\Temp\\ipykernel_16548\\3982899815.py:12: FutureWarning: The frame.append method is deprecated and will be removed from pandas in a future version. Use pandas.concat instead.\n",
      "  score_data = score_data.append(temp_score_data)\n",
      "C:\\Users\\mrbab\\AppData\\Local\\Temp\\ipykernel_16548\\3982899815.py:12: FutureWarning: The frame.append method is deprecated and will be removed from pandas in a future version. Use pandas.concat instead.\n",
      "  score_data = score_data.append(temp_score_data)\n",
      "C:\\Users\\mrbab\\AppData\\Local\\Temp\\ipykernel_16548\\3982899815.py:12: FutureWarning: The frame.append method is deprecated and will be removed from pandas in a future version. Use pandas.concat instead.\n",
      "  score_data = score_data.append(temp_score_data)\n",
      "C:\\Users\\mrbab\\AppData\\Local\\Temp\\ipykernel_16548\\3982899815.py:12: FutureWarning: The frame.append method is deprecated and will be removed from pandas in a future version. Use pandas.concat instead.\n",
      "  score_data = score_data.append(temp_score_data)\n",
      "C:\\Users\\mrbab\\AppData\\Local\\Temp\\ipykernel_16548\\3982899815.py:12: FutureWarning: The frame.append method is deprecated and will be removed from pandas in a future version. Use pandas.concat instead.\n",
      "  score_data = score_data.append(temp_score_data)\n",
      "C:\\Users\\mrbab\\AppData\\Local\\Temp\\ipykernel_16548\\3982899815.py:12: FutureWarning: The frame.append method is deprecated and will be removed from pandas in a future version. Use pandas.concat instead.\n",
      "  score_data = score_data.append(temp_score_data)\n",
      "C:\\Users\\mrbab\\AppData\\Local\\Temp\\ipykernel_16548\\3982899815.py:12: FutureWarning: The frame.append method is deprecated and will be removed from pandas in a future version. Use pandas.concat instead.\n",
      "  score_data = score_data.append(temp_score_data)\n",
      "C:\\Users\\mrbab\\AppData\\Local\\Temp\\ipykernel_16548\\3982899815.py:12: FutureWarning: The frame.append method is deprecated and will be removed from pandas in a future version. Use pandas.concat instead.\n",
      "  score_data = score_data.append(temp_score_data)\n",
      "C:\\Users\\mrbab\\AppData\\Local\\Temp\\ipykernel_16548\\3982899815.py:12: FutureWarning: The frame.append method is deprecated and will be removed from pandas in a future version. Use pandas.concat instead.\n",
      "  score_data = score_data.append(temp_score_data)\n",
      "C:\\Users\\mrbab\\AppData\\Local\\Temp\\ipykernel_16548\\3982899815.py:12: FutureWarning: The frame.append method is deprecated and will be removed from pandas in a future version. Use pandas.concat instead.\n",
      "  score_data = score_data.append(temp_score_data)\n",
      "C:\\Users\\mrbab\\AppData\\Local\\Temp\\ipykernel_16548\\3982899815.py:12: FutureWarning: The frame.append method is deprecated and will be removed from pandas in a future version. Use pandas.concat instead.\n",
      "  score_data = score_data.append(temp_score_data)\n",
      "C:\\Users\\mrbab\\AppData\\Local\\Temp\\ipykernel_16548\\3982899815.py:12: FutureWarning: The frame.append method is deprecated and will be removed from pandas in a future version. Use pandas.concat instead.\n",
      "  score_data = score_data.append(temp_score_data)\n",
      "C:\\Users\\mrbab\\AppData\\Local\\Temp\\ipykernel_16548\\3982899815.py:12: FutureWarning: The frame.append method is deprecated and will be removed from pandas in a future version. Use pandas.concat instead.\n",
      "  score_data = score_data.append(temp_score_data)\n",
      "C:\\Users\\mrbab\\AppData\\Local\\Temp\\ipykernel_16548\\3982899815.py:12: FutureWarning: The frame.append method is deprecated and will be removed from pandas in a future version. Use pandas.concat instead.\n",
      "  score_data = score_data.append(temp_score_data)\n",
      "C:\\Users\\mrbab\\AppData\\Local\\Temp\\ipykernel_16548\\3982899815.py:12: FutureWarning: The frame.append method is deprecated and will be removed from pandas in a future version. Use pandas.concat instead.\n",
      "  score_data = score_data.append(temp_score_data)\n",
      "C:\\Users\\mrbab\\AppData\\Local\\Temp\\ipykernel_16548\\3982899815.py:12: FutureWarning: The frame.append method is deprecated and will be removed from pandas in a future version. Use pandas.concat instead.\n",
      "  score_data = score_data.append(temp_score_data)\n",
      "C:\\Users\\mrbab\\AppData\\Local\\Temp\\ipykernel_16548\\3982899815.py:12: FutureWarning: The frame.append method is deprecated and will be removed from pandas in a future version. Use pandas.concat instead.\n",
      "  score_data = score_data.append(temp_score_data)\n",
      "C:\\Users\\mrbab\\AppData\\Local\\Temp\\ipykernel_16548\\3982899815.py:12: FutureWarning: The frame.append method is deprecated and will be removed from pandas in a future version. Use pandas.concat instead.\n",
      "  score_data = score_data.append(temp_score_data)\n",
      "C:\\Users\\mrbab\\AppData\\Local\\Temp\\ipykernel_16548\\3982899815.py:12: FutureWarning: The frame.append method is deprecated and will be removed from pandas in a future version. Use pandas.concat instead.\n",
      "  score_data = score_data.append(temp_score_data)\n",
      "C:\\Users\\mrbab\\AppData\\Local\\Temp\\ipykernel_16548\\3982899815.py:12: FutureWarning: The frame.append method is deprecated and will be removed from pandas in a future version. Use pandas.concat instead.\n",
      "  score_data = score_data.append(temp_score_data)\n",
      "C:\\Users\\mrbab\\AppData\\Local\\Temp\\ipykernel_16548\\3982899815.py:12: FutureWarning: The frame.append method is deprecated and will be removed from pandas in a future version. Use pandas.concat instead.\n",
      "  score_data = score_data.append(temp_score_data)\n",
      "C:\\Users\\mrbab\\AppData\\Local\\Temp\\ipykernel_16548\\3982899815.py:12: FutureWarning: The frame.append method is deprecated and will be removed from pandas in a future version. Use pandas.concat instead.\n",
      "  score_data = score_data.append(temp_score_data)\n",
      "C:\\Users\\mrbab\\AppData\\Local\\Temp\\ipykernel_16548\\3982899815.py:12: FutureWarning: The frame.append method is deprecated and will be removed from pandas in a future version. Use pandas.concat instead.\n",
      "  score_data = score_data.append(temp_score_data)\n",
      "C:\\Users\\mrbab\\AppData\\Local\\Temp\\ipykernel_16548\\3982899815.py:12: FutureWarning: The frame.append method is deprecated and will be removed from pandas in a future version. Use pandas.concat instead.\n",
      "  score_data = score_data.append(temp_score_data)\n",
      "C:\\Users\\mrbab\\AppData\\Local\\Temp\\ipykernel_16548\\3982899815.py:12: FutureWarning: The frame.append method is deprecated and will be removed from pandas in a future version. Use pandas.concat instead.\n",
      "  score_data = score_data.append(temp_score_data)\n",
      "C:\\Users\\mrbab\\AppData\\Local\\Temp\\ipykernel_16548\\3982899815.py:12: FutureWarning: The frame.append method is deprecated and will be removed from pandas in a future version. Use pandas.concat instead.\n",
      "  score_data = score_data.append(temp_score_data)\n",
      "C:\\Users\\mrbab\\AppData\\Local\\Temp\\ipykernel_16548\\3982899815.py:12: FutureWarning: The frame.append method is deprecated and will be removed from pandas in a future version. Use pandas.concat instead.\n",
      "  score_data = score_data.append(temp_score_data)\n",
      "C:\\Users\\mrbab\\AppData\\Local\\Temp\\ipykernel_16548\\3982899815.py:12: FutureWarning: The frame.append method is deprecated and will be removed from pandas in a future version. Use pandas.concat instead.\n",
      "  score_data = score_data.append(temp_score_data)\n",
      "C:\\Users\\mrbab\\AppData\\Local\\Temp\\ipykernel_16548\\3982899815.py:12: FutureWarning: The frame.append method is deprecated and will be removed from pandas in a future version. Use pandas.concat instead.\n",
      "  score_data = score_data.append(temp_score_data)\n",
      "C:\\Users\\mrbab\\AppData\\Local\\Temp\\ipykernel_16548\\3982899815.py:12: FutureWarning: The frame.append method is deprecated and will be removed from pandas in a future version. Use pandas.concat instead.\n",
      "  score_data = score_data.append(temp_score_data)\n",
      "C:\\Users\\mrbab\\AppData\\Local\\Temp\\ipykernel_16548\\3982899815.py:12: FutureWarning: The frame.append method is deprecated and will be removed from pandas in a future version. Use pandas.concat instead.\n",
      "  score_data = score_data.append(temp_score_data)\n",
      "C:\\Users\\mrbab\\AppData\\Local\\Temp\\ipykernel_16548\\3982899815.py:12: FutureWarning: The frame.append method is deprecated and will be removed from pandas in a future version. Use pandas.concat instead.\n",
      "  score_data = score_data.append(temp_score_data)\n",
      "C:\\Users\\mrbab\\AppData\\Local\\Temp\\ipykernel_16548\\3982899815.py:12: FutureWarning: The frame.append method is deprecated and will be removed from pandas in a future version. Use pandas.concat instead.\n",
      "  score_data = score_data.append(temp_score_data)\n",
      "C:\\Users\\mrbab\\AppData\\Local\\Temp\\ipykernel_16548\\3982899815.py:12: FutureWarning: The frame.append method is deprecated and will be removed from pandas in a future version. Use pandas.concat instead.\n",
      "  score_data = score_data.append(temp_score_data)\n",
      "C:\\Users\\mrbab\\AppData\\Local\\Temp\\ipykernel_16548\\3982899815.py:12: FutureWarning: The frame.append method is deprecated and will be removed from pandas in a future version. Use pandas.concat instead.\n",
      "  score_data = score_data.append(temp_score_data)\n",
      "C:\\Users\\mrbab\\AppData\\Local\\Temp\\ipykernel_16548\\3982899815.py:12: FutureWarning: The frame.append method is deprecated and will be removed from pandas in a future version. Use pandas.concat instead.\n",
      "  score_data = score_data.append(temp_score_data)\n",
      "C:\\Users\\mrbab\\AppData\\Local\\Temp\\ipykernel_16548\\3982899815.py:12: FutureWarning: The frame.append method is deprecated and will be removed from pandas in a future version. Use pandas.concat instead.\n",
      "  score_data = score_data.append(temp_score_data)\n",
      "C:\\Users\\mrbab\\AppData\\Local\\Temp\\ipykernel_16548\\3982899815.py:12: FutureWarning: The frame.append method is deprecated and will be removed from pandas in a future version. Use pandas.concat instead.\n",
      "  score_data = score_data.append(temp_score_data)\n"
     ]
    }
   ],
   "source": [
    "for depth in depth_lvl:\n",
    "    clf = tree.DecisionTreeClassifier(criterion='entropy', max_depth=depth)\n",
    "    clf.fit(X_train, y_train)\n",
    "    train_score = clf.score(X_train, y_train)\n",
    "    test_score = clf.score(X_test, y_test)\n",
    "    mean_cross_val_score = cross_val_score(clf, X_train, y_train, cv=5).mean()\n",
    "\n",
    "    temp_score_data = pd.DataFrame({'depth' : [depth],\n",
    "                                    'train_score' : [train_score],\n",
    "                                    'test_score' : [test_score],\n",
    "                                    'cross_val_score' : [mean_cross_val_score]})\n",
    "    score_data = score_data.append(temp_score_data)"
   ],
   "metadata": {
    "collapsed": false,
    "ExecuteTime": {
     "start_time": "2023-04-24T21:56:04.665532Z",
     "end_time": "2023-04-24T21:56:07.785527Z"
    }
   }
  },
  {
   "cell_type": "code",
   "execution_count": 13,
   "outputs": [],
   "source": [
    "score_data_long = pd.melt(score_data,\n",
    "                     id_vars='depth',\n",
    "                     value_vars=['train_score', 'test_score', 'cross_val_score'],\n",
    "                     var_name='set_type',\n",
    "                     value_name='score')\n"
   ],
   "metadata": {
    "collapsed": false,
    "ExecuteTime": {
     "start_time": "2023-04-24T21:56:07.792550Z",
     "end_time": "2023-04-24T21:56:07.804531Z"
    }
   }
  },
  {
   "cell_type": "code",
   "execution_count": 14,
   "outputs": [
    {
     "data": {
      "text/plain": "   depth  train_score  test_score  cross_val_score\n0      1          1.0         1.0              1.0\n0      2          1.0         1.0              1.0\n0      3          1.0         1.0              1.0\n0      4          1.0         1.0              1.0\n0      5          1.0         1.0              1.0",
      "text/html": "<div>\n<style scoped>\n    .dataframe tbody tr th:only-of-type {\n        vertical-align: middle;\n    }\n\n    .dataframe tbody tr th {\n        vertical-align: top;\n    }\n\n    .dataframe thead th {\n        text-align: right;\n    }\n</style>\n<table border=\"1\" class=\"dataframe\">\n  <thead>\n    <tr style=\"text-align: right;\">\n      <th></th>\n      <th>depth</th>\n      <th>train_score</th>\n      <th>test_score</th>\n      <th>cross_val_score</th>\n    </tr>\n  </thead>\n  <tbody>\n    <tr>\n      <th>0</th>\n      <td>1</td>\n      <td>1.0</td>\n      <td>1.0</td>\n      <td>1.0</td>\n    </tr>\n    <tr>\n      <th>0</th>\n      <td>2</td>\n      <td>1.0</td>\n      <td>1.0</td>\n      <td>1.0</td>\n    </tr>\n    <tr>\n      <th>0</th>\n      <td>3</td>\n      <td>1.0</td>\n      <td>1.0</td>\n      <td>1.0</td>\n    </tr>\n    <tr>\n      <th>0</th>\n      <td>4</td>\n      <td>1.0</td>\n      <td>1.0</td>\n      <td>1.0</td>\n    </tr>\n    <tr>\n      <th>0</th>\n      <td>5</td>\n      <td>1.0</td>\n      <td>1.0</td>\n      <td>1.0</td>\n    </tr>\n  </tbody>\n</table>\n</div>"
     },
     "execution_count": 14,
     "metadata": {},
     "output_type": "execute_result"
    }
   ],
   "source": [
    "score_data.head()"
   ],
   "metadata": {
    "collapsed": false,
    "ExecuteTime": {
     "start_time": "2023-04-24T21:56:07.801528Z",
     "end_time": "2023-04-24T21:56:07.850539Z"
    }
   }
  },
  {
   "cell_type": "code",
   "execution_count": 15,
   "outputs": [
    {
     "data": {
      "text/plain": "<Axes: xlabel='depth', ylabel='score'>"
     },
     "execution_count": 15,
     "metadata": {},
     "output_type": "execute_result"
    },
    {
     "data": {
      "text/plain": "<Figure size 640x480 with 1 Axes>",
      "image/png": "[encoded data removed]"
     },
     "metadata": {},
     "output_type": "display_data"
    }
   ],
   "source": [
    "sns.lineplot(x='depth', y='score', hue='set_type',data=score_data_long)"
   ],
   "metadata": {
    "collapsed": false,
    "ExecuteTime": {
     "start_time": "2023-04-24T21:56:07.818527Z",
     "end_time": "2023-04-24T21:56:08.196524Z"
    }
   }
  },
  {
   "cell_type": "code",
   "execution_count": 16,
   "outputs": [
    {
     "ename": "TypeError",
     "evalue": "BaseDecisionTree.predict() missing 1 required positional argument: 'X'",
     "output_type": "error",
     "traceback": [
      "\u001B[1;31m---------------------------------------------------------------------------\u001B[0m",
      "\u001B[1;31mTypeError\u001B[0m                                 Traceback (most recent call last)",
      "Cell \u001B[1;32mIn[16], line 1\u001B[0m\n\u001B[1;32m----> 1\u001B[0m \u001B[43mclf\u001B[49m\u001B[38;5;241;43m.\u001B[39;49m\u001B[43mpredict\u001B[49m\u001B[43m(\u001B[49m\u001B[43m)\u001B[49m\n",
      "\u001B[1;31mTypeError\u001B[0m: BaseDecisionTree.predict() missing 1 required positional argument: 'X'"
     ]
    }
   ],
   "source": [],
   "metadata": {
    "collapsed": false,
    "ExecuteTime": {
     "start_time": "2023-04-24T21:39:45.671530Z",
     "end_time": "2023-04-24T21:39:45.711778Z"
    }
   }
  },
  {
   "cell_type": "code",
   "execution_count": 18,
   "outputs": [],
   "source": [
    "train_set = pd.read_json('dataset_209691_15.json')"
   ],
   "metadata": {
    "collapsed": false,
    "ExecuteTime": {
     "start_time": "2023-04-24T21:56:27.059529Z",
     "end_time": "2023-04-24T21:56:27.090525Z"
    }
   }
  },
  {
   "cell_type": "code",
   "execution_count": 19,
   "outputs": [
    {
     "data": {
      "text/plain": "   Длина  Высота  Шерстист  Гавкает  Лазает по деревьям\n0     21    25.2         1        1                   0\n1     20    24.0         1        1                   0\n2     18    21.6         1        1                   0\n3     31    37.2         1        1                   0\n4     22    26.4         1        1                   0",
      "text/html": "<div>\n<style scoped>\n    .dataframe tbody tr th:only-of-type {\n        vertical-align: middle;\n    }\n\n    .dataframe tbody tr th {\n        vertical-align: top;\n    }\n\n    .dataframe thead th {\n        text-align: right;\n    }\n</style>\n<table border=\"1\" class=\"dataframe\">\n  <thead>\n    <tr style=\"text-align: right;\">\n      <th></th>\n      <th>Длина</th>\n      <th>Высота</th>\n      <th>Шерстист</th>\n      <th>Гавкает</th>\n      <th>Лазает по деревьям</th>\n    </tr>\n  </thead>\n  <tbody>\n    <tr>\n      <th>0</th>\n      <td>21</td>\n      <td>25.2</td>\n      <td>1</td>\n      <td>1</td>\n      <td>0</td>\n    </tr>\n    <tr>\n      <th>1</th>\n      <td>20</td>\n      <td>24.0</td>\n      <td>1</td>\n      <td>1</td>\n      <td>0</td>\n    </tr>\n    <tr>\n      <th>2</th>\n      <td>18</td>\n      <td>21.6</td>\n      <td>1</td>\n      <td>1</td>\n      <td>0</td>\n    </tr>\n    <tr>\n      <th>3</th>\n      <td>31</td>\n      <td>37.2</td>\n      <td>1</td>\n      <td>1</td>\n      <td>0</td>\n    </tr>\n    <tr>\n      <th>4</th>\n      <td>22</td>\n      <td>26.4</td>\n      <td>1</td>\n      <td>1</td>\n      <td>0</td>\n    </tr>\n  </tbody>\n</table>\n</div>"
     },
     "execution_count": 19,
     "metadata": {},
     "output_type": "execute_result"
    }
   ],
   "source": [
    "train_set.head()"
   ],
   "metadata": {
    "collapsed": false,
    "ExecuteTime": {
     "start_time": "2023-04-24T21:56:27.536531Z",
     "end_time": "2023-04-24T21:56:27.560526Z"
    }
   }
  },
  {
   "cell_type": "code",
   "execution_count": 20,
   "outputs": [],
   "source": [
    "train_set = train_set.rename(columns={'Длина': 'length',\n",
    "                                       'Высота' : 'height',\n",
    "                                       'Шерстист': 'woolly',\n",
    "                                       'Гавкает' : 'bark',\n",
    "                                       'Лазает по деревьям' : 'climb',\n",
    "                                       'Вид' : 'species'})"
   ],
   "metadata": {
    "collapsed": false,
    "ExecuteTime": {
     "start_time": "2023-04-24T21:56:29.396532Z",
     "end_time": "2023-04-24T21:56:29.417541Z"
    }
   }
  },
  {
   "cell_type": "code",
   "execution_count": null,
   "outputs": [],
   "source": [
    "X_test_f = train_set.drop(['species'], axis=1)"
   ],
   "metadata": {
    "collapsed": false
   }
  },
  {
   "cell_type": "code",
   "execution_count": 21,
   "outputs": [],
   "source": [
    "predicted = clf.predict(X_test)"
   ],
   "metadata": {
    "collapsed": false,
    "ExecuteTime": {
     "start_time": "2023-04-24T21:56:31.043547Z",
     "end_time": "2023-04-24T21:56:31.066543Z"
    }
   }
  },
  {
   "cell_type": "code",
   "execution_count": 38,
   "outputs": [],
   "source": [
    "res_data = pd.DataFrame(predicted, columns=['species'])"
   ],
   "metadata": {
    "collapsed": false,
    "ExecuteTime": {
     "start_time": "2023-04-24T22:03:57.535220Z",
     "end_time": "2023-04-24T22:03:57.551225Z"
    }
   }
  },
  {
   "cell_type": "code",
   "execution_count": 40,
   "outputs": [
    {
     "data": {
      "text/plain": "         species\nspecies         \nкотик        167\nсобачка      163",
      "text/html": "<div>\n<style scoped>\n    .dataframe tbody tr th:only-of-type {\n        vertical-align: middle;\n    }\n\n    .dataframe tbody tr th {\n        vertical-align: top;\n    }\n\n    .dataframe thead th {\n        text-align: right;\n    }\n</style>\n<table border=\"1\" class=\"dataframe\">\n  <thead>\n    <tr style=\"text-align: right;\">\n      <th></th>\n      <th>species</th>\n    </tr>\n    <tr>\n      <th>species</th>\n      <th></th>\n    </tr>\n  </thead>\n  <tbody>\n    <tr>\n      <th>котик</th>\n      <td>167</td>\n    </tr>\n    <tr>\n      <th>собачка</th>\n      <td>163</td>\n    </tr>\n  </tbody>\n</table>\n</div>"
     },
     "execution_count": 40,
     "metadata": {},
     "output_type": "execute_result"
    }
   ],
   "source": [
    "res_data.groupby('species').agg({'species': 'count'})"
   ],
   "metadata": {
    "collapsed": false,
    "ExecuteTime": {
     "start_time": "2023-04-24T22:04:27.915763Z",
     "end_time": "2023-04-24T22:04:27.942631Z"
    }
   }
  },
  {
   "cell_type": "code",
   "execution_count": null,
   "outputs": [],
   "source": [],
   "metadata": {
    "collapsed": false
   }
  }
 ],
 "metadata": {
  "kernelspec": {
   "display_name": "Python 3",
   "language": "python",
   "name": "python3"
  },
  "language_info": {
   "codemirror_mode": {
    "name": "ipython",
    "version": 2
   },
   "file_extension": ".py",
   "mimetype": "text/x-python",
   "name": "python",
   "nbconvert_exporter": "python",
   "pygments_lexer": "ipython2",
   "version": "2.7.6"
  }
 },
 "nbformat": 4,
 "nbformat_minor": 0
}
